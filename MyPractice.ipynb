{
 "cells": [
  {
   "cell_type": "markdown",
   "id": "8dbe241f-e78f-45d6-8ef5-de1a7f49ef8c",
   "metadata": {},
   "source": []
  },
  {
   "cell_type": "code",
   "execution_count": 16,
   "id": "99c8aa03-c831-40cb-8b92-898ecfd4d670",
   "metadata": {},
   "outputs": [],
   "source": [
    "#Understand fundamentals of returns, multiple sets of returns using vectors\n",
    "#Understand risk adjusted measures\n",
    "#Understand non-Gaussian distribution, skewness and kurtosis\n",
    "#Understand downside risk measures\n",
    "#Estimate value at risk\n",
    "#Implement the concepts using the lab sessions"
   ]
  },
  {
   "cell_type": "markdown",
   "id": "9a3841bf-1693-4f9e-8d30-68d814ad4b8b",
   "metadata": {},
   "source": [
    "# LAB SESSION - BASICS OF RETURNS"
   ]
  },
  {
   "cell_type": "markdown",
   "id": "05ff6082-8f82-4451-932f-983fee679732",
   "metadata": {},
   "source": [
    "Recall that the return from time  𝑡\n",
    "  to time ${t+1} is given by:\n",
    "\n",
    "𝑅𝑡,𝑡+1=𝑃𝑡+1−𝑃𝑡𝑃𝑡\n",
    " \n",
    "\n",
    "or alternately\n",
    "\n",
    "𝑅𝑡,𝑡+1=𝑃𝑡+1𝑃𝑡−1\n",
    " \n",
    "\n",
    "If you come from R or another language that supports vectors, you might expect something like this to work:\n",
    "\n",
    "returns_a = prices_a[:-1]/prices_a[1:] - 1\n",
    "However, since Python lists do not operate as vectors, that will not work, generating an error about \"/\" not working for lists."
   ]
  },
  {
   "cell_type": "code",
   "execution_count": 20,
   "id": "2440d772-d93a-428f-a3c2-9cbc09000412",
   "metadata": {},
   "outputs": [],
   "source": [
    "prices_a=[8.70, 8.91, 8.71]\n",
    "#have in mind that prices_a is a list and we can use this list to generate a sequence of returns"
   ]
  },
  {
   "cell_type": "code",
   "execution_count": 22,
   "id": "aa74147d-958d-434f-899e-96dca923cc4a",
   "metadata": {},
   "outputs": [
    {
     "data": {
      "text/plain": [
       "0.024137931034482918"
      ]
     },
     "execution_count": 22,
     "metadata": {},
     "output_type": "execute_result"
    }
   ],
   "source": [
    "(8.91/8.70)-1"
   ]
  },
  {
   "cell_type": "code",
   "execution_count": 24,
   "id": "bc456f0d-9589-45d7-8c62-3ee526d78454",
   "metadata": {},
   "outputs": [
    {
     "data": {
      "text/plain": [
       "-0.022446689113355678"
      ]
     },
     "execution_count": 24,
     "metadata": {},
     "output_type": "execute_result"
    }
   ],
   "source": [
    "8.71/8.91-1"
   ]
  },
  {
   "cell_type": "code",
   "execution_count": 26,
   "id": "cbb8eaf9-43e4-4c9c-98ab-15f599f37b7b",
   "metadata": {},
   "outputs": [
    {
     "data": {
      "text/plain": [
       "[8.91, 8.71]"
      ]
     },
     "execution_count": 26,
     "metadata": {},
     "output_type": "execute_result"
    }
   ],
   "source": [
    " prices_a[1:]\n",
    "#from index 1 all the way to the end"
   ]
  },
  {
   "cell_type": "code",
   "execution_count": 28,
   "id": "8157f255-99d9-4422-aa1f-b5eb25080211",
   "metadata": {},
   "outputs": [
    {
     "data": {
      "text/plain": [
       "[8.7, 8.91]"
      ]
     },
     "execution_count": 28,
     "metadata": {},
     "output_type": "execute_result"
    }
   ],
   "source": [
    "prices_a[:-1]\n",
    "#all the way from teh beggining exept the last one"
   ]
  },
  {
   "cell_type": "code",
   "execution_count": 30,
   "id": "ba1cb6ab-70d8-41ad-a243-a7110af05073",
   "metadata": {},
   "outputs": [],
   "source": [
    "#we want to find the returns for everyday"
   ]
  },
  {
   "cell_type": "code",
   "execution_count": 32,
   "id": "1f540f60-ffa2-4d4a-ab78-4e852d13d6d0",
   "metadata": {},
   "outputs": [],
   "source": [
    "#we can not devite lists, lists are not vectors"
   ]
  },
  {
   "cell_type": "code",
   "execution_count": 34,
   "id": "6c8c800f-9627-4067-b908-6e1815c3bbb3",
   "metadata": {},
   "outputs": [],
   "source": [
    "#do it in numpy"
   ]
  },
  {
   "cell_type": "code",
   "execution_count": 36,
   "id": "b41b5b2a-6dc2-4fba-a275-88c850a47100",
   "metadata": {},
   "outputs": [],
   "source": [
    "import numpy as np"
   ]
  },
  {
   "cell_type": "code",
   "execution_count": 38,
   "id": "803715cf-a8dc-4b30-bee1-00c49d207c54",
   "metadata": {},
   "outputs": [],
   "source": [
    "#numpy is a module that gives me some available code"
   ]
  },
  {
   "cell_type": "code",
   "execution_count": 40,
   "id": "81353593-4da4-4629-a51a-443f837fcd07",
   "metadata": {},
   "outputs": [
    {
     "data": {
      "text/plain": [
       "array([8.7 , 8.91, 8.71])"
      ]
     },
     "execution_count": 40,
     "metadata": {},
     "output_type": "execute_result"
    }
   ],
   "source": [
    "prices_a=np.array([8.70, 8.91, 8.71])\n",
    "prices_a"
   ]
  },
  {
   "cell_type": "code",
   "execution_count": 42,
   "id": "ae4b625c-7ede-4442-a0d4-20b305b837c9",
   "metadata": {},
   "outputs": [],
   "source": [
    "#i used numpy.array in order to convert the list into an array\n",
    "#now i am able to do things that i could not do before"
   ]
  },
  {
   "cell_type": "code",
   "execution_count": 44,
   "id": "7e4ed516-99e6-481b-90e8-36fefae1450f",
   "metadata": {},
   "outputs": [
    {
     "data": {
      "text/plain": [
       "array([ 0.02413793, -0.02244669])"
      ]
     },
     "execution_count": 44,
     "metadata": {},
     "output_type": "execute_result"
    }
   ],
   "source": [
    "#so now I can do this:\n",
    "(prices_a[1:]/prices_a[:-1])-1"
   ]
  },
  {
   "cell_type": "code",
   "execution_count": 46,
   "id": "d2ec9f34-9cd2-40f9-bbc0-0b7b35c8908c",
   "metadata": {},
   "outputs": [],
   "source": [
    "#those are the returns for two days"
   ]
  },
  {
   "cell_type": "code",
   "execution_count": 48,
   "id": "f5281e5e-44ab-425a-81de-01798889c267",
   "metadata": {},
   "outputs": [],
   "source": [
    "#but we can also use pandas\n",
    "#using pandas i have the ability to show my data in a frame mode(like a table) and\n",
    "#this works like a table in mathmematcs\n",
    "#What that's doing is creating a dictionary in Python. \n",
    "#Python dictionary is nothing more than a sequence of key value pairs. \n",
    "#So that's the key and I'm going to have to give it a value and then \n",
    "#I'll put a little separator here, that's a comma. Then, I'll do another one here. \n",
    "#What this pd.DataFrame is expecting is a dictionary with key value pairs where each key is \n",
    "#the name of the column and the value are the actual values for that column. "
   ]
  },
  {
   "cell_type": "code",
   "execution_count": 50,
   "id": "0118cc89-b8fd-4adf-ac97-642a730a8ca7",
   "metadata": {},
   "outputs": [
    {
     "data": {
      "text/html": [
       "<div>\n",
       "<style scoped>\n",
       "    .dataframe tbody tr th:only-of-type {\n",
       "        vertical-align: middle;\n",
       "    }\n",
       "\n",
       "    .dataframe tbody tr th {\n",
       "        vertical-align: top;\n",
       "    }\n",
       "\n",
       "    .dataframe thead th {\n",
       "        text-align: right;\n",
       "    }\n",
       "</style>\n",
       "<table border=\"1\" class=\"dataframe\">\n",
       "  <thead>\n",
       "    <tr style=\"text-align: right;\">\n",
       "      <th></th>\n",
       "      <th>blue</th>\n",
       "      <th>orange</th>\n",
       "    </tr>\n",
       "  </thead>\n",
       "  <tbody>\n",
       "    <tr>\n",
       "      <th>0</th>\n",
       "      <td>8.70</td>\n",
       "      <td>4.23</td>\n",
       "    </tr>\n",
       "    <tr>\n",
       "      <th>1</th>\n",
       "      <td>8.91</td>\n",
       "      <td>23.50</td>\n",
       "    </tr>\n",
       "    <tr>\n",
       "      <th>2</th>\n",
       "      <td>8.71</td>\n",
       "      <td>67.23</td>\n",
       "    </tr>\n",
       "    <tr>\n",
       "      <th>3</th>\n",
       "      <td>7.54</td>\n",
       "      <td>23.10</td>\n",
       "    </tr>\n",
       "    <tr>\n",
       "      <th>4</th>\n",
       "      <td>4.89</td>\n",
       "      <td>24.50</td>\n",
       "    </tr>\n",
       "  </tbody>\n",
       "</table>\n",
       "</div>"
      ],
      "text/plain": [
       "   blue  orange\n",
       "0  8.70    4.23\n",
       "1  8.91   23.50\n",
       "2  8.71   67.23\n",
       "3  7.54   23.10\n",
       "4  4.89   24.50"
      ]
     },
     "execution_count": 50,
     "metadata": {},
     "output_type": "execute_result"
    }
   ],
   "source": [
    "import pandas as pd\n",
    "prices=pd.DataFrame({\"blue\": [8.70, 8.91, 8.71, 7.54, 4.89]\n",
    "                    ,\n",
    "                     \"orange\":[4.23,23.5,67.23,23.1,24.5]\n",
    "                    })\n",
    "prices"
   ]
  },
  {
   "cell_type": "code",
   "execution_count": 52,
   "id": "64ec957e-106e-4560-83df-3c1183629d38",
   "metadata": {},
   "outputs": [
    {
     "data": {
      "text/html": [
       "<div>\n",
       "<style scoped>\n",
       "    .dataframe tbody tr th:only-of-type {\n",
       "        vertical-align: middle;\n",
       "    }\n",
       "\n",
       "    .dataframe tbody tr th {\n",
       "        vertical-align: top;\n",
       "    }\n",
       "\n",
       "    .dataframe thead th {\n",
       "        text-align: right;\n",
       "    }\n",
       "</style>\n",
       "<table border=\"1\" class=\"dataframe\">\n",
       "  <thead>\n",
       "    <tr style=\"text-align: right;\">\n",
       "      <th></th>\n",
       "      <th>blue</th>\n",
       "      <th>orange</th>\n",
       "    </tr>\n",
       "  </thead>\n",
       "  <tbody>\n",
       "    <tr>\n",
       "      <th>1</th>\n",
       "      <td>8.91</td>\n",
       "      <td>23.50</td>\n",
       "    </tr>\n",
       "    <tr>\n",
       "      <th>2</th>\n",
       "      <td>8.71</td>\n",
       "      <td>67.23</td>\n",
       "    </tr>\n",
       "    <tr>\n",
       "      <th>3</th>\n",
       "      <td>7.54</td>\n",
       "      <td>23.10</td>\n",
       "    </tr>\n",
       "    <tr>\n",
       "      <th>4</th>\n",
       "      <td>4.89</td>\n",
       "      <td>24.50</td>\n",
       "    </tr>\n",
       "  </tbody>\n",
       "</table>\n",
       "</div>"
      ],
      "text/plain": [
       "   blue  orange\n",
       "1  8.91   23.50\n",
       "2  8.71   67.23\n",
       "3  7.54   23.10\n",
       "4  4.89   24.50"
      ]
     },
     "execution_count": 52,
     "metadata": {},
     "output_type": "execute_result"
    }
   ],
   "source": [
    "#iloc allows me to detect the data into mu frame \n",
    "prices.iloc[1:]"
   ]
  },
  {
   "cell_type": "code",
   "execution_count": 54,
   "id": "cfa01270-0a80-4b31-93d6-47d1e9c2890a",
   "metadata": {},
   "outputs": [
    {
     "data": {
      "text/html": [
       "<div>\n",
       "<style scoped>\n",
       "    .dataframe tbody tr th:only-of-type {\n",
       "        vertical-align: middle;\n",
       "    }\n",
       "\n",
       "    .dataframe tbody tr th {\n",
       "        vertical-align: top;\n",
       "    }\n",
       "\n",
       "    .dataframe thead th {\n",
       "        text-align: right;\n",
       "    }\n",
       "</style>\n",
       "<table border=\"1\" class=\"dataframe\">\n",
       "  <thead>\n",
       "    <tr style=\"text-align: right;\">\n",
       "      <th></th>\n",
       "      <th>blue</th>\n",
       "      <th>orange</th>\n",
       "    </tr>\n",
       "  </thead>\n",
       "  <tbody>\n",
       "    <tr>\n",
       "      <th>0</th>\n",
       "      <td>8.70</td>\n",
       "      <td>4.23</td>\n",
       "    </tr>\n",
       "    <tr>\n",
       "      <th>1</th>\n",
       "      <td>8.91</td>\n",
       "      <td>23.50</td>\n",
       "    </tr>\n",
       "    <tr>\n",
       "      <th>2</th>\n",
       "      <td>8.71</td>\n",
       "      <td>67.23</td>\n",
       "    </tr>\n",
       "    <tr>\n",
       "      <th>3</th>\n",
       "      <td>7.54</td>\n",
       "      <td>23.10</td>\n",
       "    </tr>\n",
       "  </tbody>\n",
       "</table>\n",
       "</div>"
      ],
      "text/plain": [
       "   blue  orange\n",
       "0  8.70    4.23\n",
       "1  8.91   23.50\n",
       "2  8.71   67.23\n",
       "3  7.54   23.10"
      ]
     },
     "execution_count": 54,
     "metadata": {},
     "output_type": "execute_result"
    }
   ],
   "source": [
    "prices.iloc[:-1]"
   ]
  },
  {
   "cell_type": "code",
   "execution_count": 56,
   "id": "022e7e3f-0a38-4705-a75d-f6bd598ebb01",
   "metadata": {},
   "outputs": [
    {
     "data": {
      "text/html": [
       "<div>\n",
       "<style scoped>\n",
       "    .dataframe tbody tr th:only-of-type {\n",
       "        vertical-align: middle;\n",
       "    }\n",
       "\n",
       "    .dataframe tbody tr th {\n",
       "        vertical-align: top;\n",
       "    }\n",
       "\n",
       "    .dataframe thead th {\n",
       "        text-align: right;\n",
       "    }\n",
       "</style>\n",
       "<table border=\"1\" class=\"dataframe\">\n",
       "  <thead>\n",
       "    <tr style=\"text-align: right;\">\n",
       "      <th></th>\n",
       "      <th>blue</th>\n",
       "      <th>orange</th>\n",
       "    </tr>\n",
       "  </thead>\n",
       "  <tbody>\n",
       "    <tr>\n",
       "      <th>0</th>\n",
       "      <td>NaN</td>\n",
       "      <td>NaN</td>\n",
       "    </tr>\n",
       "    <tr>\n",
       "      <th>1</th>\n",
       "      <td>1.0</td>\n",
       "      <td>1.0</td>\n",
       "    </tr>\n",
       "    <tr>\n",
       "      <th>2</th>\n",
       "      <td>1.0</td>\n",
       "      <td>1.0</td>\n",
       "    </tr>\n",
       "    <tr>\n",
       "      <th>3</th>\n",
       "      <td>1.0</td>\n",
       "      <td>1.0</td>\n",
       "    </tr>\n",
       "    <tr>\n",
       "      <th>4</th>\n",
       "      <td>NaN</td>\n",
       "      <td>NaN</td>\n",
       "    </tr>\n",
       "  </tbody>\n",
       "</table>\n",
       "</div>"
      ],
      "text/plain": [
       "   blue  orange\n",
       "0   NaN     NaN\n",
       "1   1.0     1.0\n",
       "2   1.0     1.0\n",
       "3   1.0     1.0\n",
       "4   NaN     NaN"
      ]
     },
     "execution_count": 56,
     "metadata": {},
     "output_type": "execute_result"
    }
   ],
   "source": [
    "#lets try to devide those numbers\n",
    "prices.iloc[1:]/prices.iloc[:-1]"
   ]
  },
  {
   "cell_type": "code",
   "execution_count": 58,
   "id": "85ed792b-d4f3-4a5f-b437-f9a03303df3d",
   "metadata": {},
   "outputs": [
    {
     "data": {
      "text/html": [
       "<div>\n",
       "<style scoped>\n",
       "    .dataframe tbody tr th:only-of-type {\n",
       "        vertical-align: middle;\n",
       "    }\n",
       "\n",
       "    .dataframe tbody tr th {\n",
       "        vertical-align: top;\n",
       "    }\n",
       "\n",
       "    .dataframe thead th {\n",
       "        text-align: right;\n",
       "    }\n",
       "</style>\n",
       "<table border=\"1\" class=\"dataframe\">\n",
       "  <thead>\n",
       "    <tr style=\"text-align: right;\">\n",
       "      <th></th>\n",
       "      <th>blue</th>\n",
       "      <th>orange</th>\n",
       "    </tr>\n",
       "  </thead>\n",
       "  <tbody>\n",
       "    <tr>\n",
       "      <th>0</th>\n",
       "      <td>0.024138</td>\n",
       "      <td>4.555556</td>\n",
       "    </tr>\n",
       "    <tr>\n",
       "      <th>1</th>\n",
       "      <td>-0.022447</td>\n",
       "      <td>1.860851</td>\n",
       "    </tr>\n",
       "    <tr>\n",
       "      <th>2</th>\n",
       "      <td>-0.134328</td>\n",
       "      <td>-0.656403</td>\n",
       "    </tr>\n",
       "    <tr>\n",
       "      <th>3</th>\n",
       "      <td>-0.351459</td>\n",
       "      <td>0.060606</td>\n",
       "    </tr>\n",
       "  </tbody>\n",
       "</table>\n",
       "</div>"
      ],
      "text/plain": [
       "       blue    orange\n",
       "0  0.024138  4.555556\n",
       "1 -0.022447  1.860851\n",
       "2 -0.134328 -0.656403\n",
       "3 -0.351459  0.060606"
      ]
     },
     "execution_count": 58,
     "metadata": {},
     "output_type": "execute_result"
    }
   ],
   "source": [
    "#1st way to do this\n",
    "prices.iloc[1:].values/prices.iloc[:-1]-1"
   ]
  },
  {
   "cell_type": "code",
   "execution_count": 60,
   "id": "157457f0-2f00-4ea1-af8a-be8b1cfde84a",
   "metadata": {},
   "outputs": [
    {
     "data": {
      "text/html": [
       "<div>\n",
       "<style scoped>\n",
       "    .dataframe tbody tr th:only-of-type {\n",
       "        vertical-align: middle;\n",
       "    }\n",
       "\n",
       "    .dataframe tbody tr th {\n",
       "        vertical-align: top;\n",
       "    }\n",
       "\n",
       "    .dataframe thead th {\n",
       "        text-align: right;\n",
       "    }\n",
       "</style>\n",
       "<table border=\"1\" class=\"dataframe\">\n",
       "  <thead>\n",
       "    <tr style=\"text-align: right;\">\n",
       "      <th></th>\n",
       "      <th>blue</th>\n",
       "      <th>orange</th>\n",
       "    </tr>\n",
       "  </thead>\n",
       "  <tbody>\n",
       "    <tr>\n",
       "      <th>1</th>\n",
       "      <td>0.024138</td>\n",
       "      <td>4.555556</td>\n",
       "    </tr>\n",
       "    <tr>\n",
       "      <th>2</th>\n",
       "      <td>-0.022447</td>\n",
       "      <td>1.860851</td>\n",
       "    </tr>\n",
       "    <tr>\n",
       "      <th>3</th>\n",
       "      <td>-0.134328</td>\n",
       "      <td>-0.656403</td>\n",
       "    </tr>\n",
       "    <tr>\n",
       "      <th>4</th>\n",
       "      <td>-0.351459</td>\n",
       "      <td>0.060606</td>\n",
       "    </tr>\n",
       "  </tbody>\n",
       "</table>\n",
       "</div>"
      ],
      "text/plain": [
       "       blue    orange\n",
       "1  0.024138  4.555556\n",
       "2 -0.022447  1.860851\n",
       "3 -0.134328 -0.656403\n",
       "4 -0.351459  0.060606"
      ]
     },
     "execution_count": 60,
     "metadata": {},
     "output_type": "execute_result"
    }
   ],
   "source": [
    "#2st way:\n",
    "prices.iloc[1:]/prices.iloc[:-1].values-1"
   ]
  },
  {
   "cell_type": "code",
   "execution_count": 62,
   "id": "b4c75e76-3ef8-4001-a70e-23bdafa4538e",
   "metadata": {},
   "outputs": [
    {
     "data": {
      "text/html": [
       "<div>\n",
       "<style scoped>\n",
       "    .dataframe tbody tr th:only-of-type {\n",
       "        vertical-align: middle;\n",
       "    }\n",
       "\n",
       "    .dataframe tbody tr th {\n",
       "        vertical-align: top;\n",
       "    }\n",
       "\n",
       "    .dataframe thead th {\n",
       "        text-align: right;\n",
       "    }\n",
       "</style>\n",
       "<table border=\"1\" class=\"dataframe\">\n",
       "  <thead>\n",
       "    <tr style=\"text-align: right;\">\n",
       "      <th></th>\n",
       "      <th>blue</th>\n",
       "      <th>orange</th>\n",
       "    </tr>\n",
       "  </thead>\n",
       "  <tbody>\n",
       "    <tr>\n",
       "      <th>0</th>\n",
       "      <td>NaN</td>\n",
       "      <td>NaN</td>\n",
       "    </tr>\n",
       "    <tr>\n",
       "      <th>1</th>\n",
       "      <td>0.024138</td>\n",
       "      <td>4.555556</td>\n",
       "    </tr>\n",
       "    <tr>\n",
       "      <th>2</th>\n",
       "      <td>-0.022447</td>\n",
       "      <td>1.860851</td>\n",
       "    </tr>\n",
       "    <tr>\n",
       "      <th>3</th>\n",
       "      <td>-0.134328</td>\n",
       "      <td>-0.656403</td>\n",
       "    </tr>\n",
       "    <tr>\n",
       "      <th>4</th>\n",
       "      <td>-0.351459</td>\n",
       "      <td>0.060606</td>\n",
       "    </tr>\n",
       "  </tbody>\n",
       "</table>\n",
       "</div>"
      ],
      "text/plain": [
       "       blue    orange\n",
       "0       NaN       NaN\n",
       "1  0.024138  4.555556\n",
       "2 -0.022447  1.860851\n",
       "3 -0.134328 -0.656403\n",
       "4 -0.351459  0.060606"
      ]
     },
     "execution_count": 62,
     "metadata": {},
     "output_type": "execute_result"
    }
   ],
   "source": [
    "#3st way: (we are shfting one row down)\n",
    "prices.shift(1)\n",
    "#and then we do this:\n",
    "prices/prices.shift(1)-1\n",
    "#and is no return for the first day"
   ]
  },
  {
   "cell_type": "code",
   "execution_count": 64,
   "id": "ec251681-5220-4098-b9fb-b2b684531c89",
   "metadata": {},
   "outputs": [
    {
     "data": {
      "text/html": [
       "<div>\n",
       "<style scoped>\n",
       "    .dataframe tbody tr th:only-of-type {\n",
       "        vertical-align: middle;\n",
       "    }\n",
       "\n",
       "    .dataframe tbody tr th {\n",
       "        vertical-align: top;\n",
       "    }\n",
       "\n",
       "    .dataframe thead th {\n",
       "        text-align: right;\n",
       "    }\n",
       "</style>\n",
       "<table border=\"1\" class=\"dataframe\">\n",
       "  <thead>\n",
       "    <tr style=\"text-align: right;\">\n",
       "      <th></th>\n",
       "      <th>blue</th>\n",
       "      <th>orange</th>\n",
       "    </tr>\n",
       "  </thead>\n",
       "  <tbody>\n",
       "    <tr>\n",
       "      <th>0</th>\n",
       "      <td>NaN</td>\n",
       "      <td>NaN</td>\n",
       "    </tr>\n",
       "    <tr>\n",
       "      <th>1</th>\n",
       "      <td>0.024138</td>\n",
       "      <td>4.555556</td>\n",
       "    </tr>\n",
       "    <tr>\n",
       "      <th>2</th>\n",
       "      <td>-0.022447</td>\n",
       "      <td>1.860851</td>\n",
       "    </tr>\n",
       "    <tr>\n",
       "      <th>3</th>\n",
       "      <td>-0.134328</td>\n",
       "      <td>-0.656403</td>\n",
       "    </tr>\n",
       "    <tr>\n",
       "      <th>4</th>\n",
       "      <td>-0.351459</td>\n",
       "      <td>0.060606</td>\n",
       "    </tr>\n",
       "  </tbody>\n",
       "</table>\n",
       "</div>"
      ],
      "text/plain": [
       "       blue    orange\n",
       "0       NaN       NaN\n",
       "1  0.024138  4.555556\n",
       "2 -0.022447  1.860851\n",
       "3 -0.134328 -0.656403\n",
       "4 -0.351459  0.060606"
      ]
     },
     "execution_count": 64,
     "metadata": {},
     "output_type": "execute_result"
    }
   ],
   "source": [
    "#4 last way: (percentage change)- TheBestWay\n",
    "prices.pct_change()"
   ]
  },
  {
   "cell_type": "code",
   "execution_count": 66,
   "id": "85a6e530-14b8-42eb-9a11-4475eb01a858",
   "metadata": {},
   "outputs": [
    {
     "data": {
      "text/html": [
       "<div>\n",
       "<style scoped>\n",
       "    .dataframe tbody tr th:only-of-type {\n",
       "        vertical-align: middle;\n",
       "    }\n",
       "\n",
       "    .dataframe tbody tr th {\n",
       "        vertical-align: top;\n",
       "    }\n",
       "\n",
       "    .dataframe thead th {\n",
       "        text-align: right;\n",
       "    }\n",
       "</style>\n",
       "<table border=\"1\" class=\"dataframe\">\n",
       "  <thead>\n",
       "    <tr style=\"text-align: right;\">\n",
       "      <th></th>\n",
       "      <th>BLUE</th>\n",
       "      <th>ORANGE</th>\n",
       "    </tr>\n",
       "  </thead>\n",
       "  <tbody>\n",
       "    <tr>\n",
       "      <th>0</th>\n",
       "      <td>8.7000</td>\n",
       "      <td>10.6600</td>\n",
       "    </tr>\n",
       "    <tr>\n",
       "      <th>1</th>\n",
       "      <td>8.9055</td>\n",
       "      <td>11.0828</td>\n",
       "    </tr>\n",
       "    <tr>\n",
       "      <th>2</th>\n",
       "      <td>8.7113</td>\n",
       "      <td>10.7100</td>\n",
       "    </tr>\n",
       "    <tr>\n",
       "      <th>3</th>\n",
       "      <td>8.4346</td>\n",
       "      <td>11.5907</td>\n",
       "    </tr>\n",
       "    <tr>\n",
       "      <th>4</th>\n",
       "      <td>8.7254</td>\n",
       "      <td>12.1070</td>\n",
       "    </tr>\n",
       "    <tr>\n",
       "      <th>5</th>\n",
       "      <td>9.0551</td>\n",
       "      <td>11.7876</td>\n",
       "    </tr>\n",
       "    <tr>\n",
       "      <th>6</th>\n",
       "      <td>8.9514</td>\n",
       "      <td>11.2078</td>\n",
       "    </tr>\n",
       "    <tr>\n",
       "      <th>7</th>\n",
       "      <td>9.2439</td>\n",
       "      <td>12.5192</td>\n",
       "    </tr>\n",
       "    <tr>\n",
       "      <th>8</th>\n",
       "      <td>9.1276</td>\n",
       "      <td>13.3624</td>\n",
       "    </tr>\n",
       "    <tr>\n",
       "      <th>9</th>\n",
       "      <td>9.3976</td>\n",
       "      <td>14.4080</td>\n",
       "    </tr>\n",
       "    <tr>\n",
       "      <th>10</th>\n",
       "      <td>9.4554</td>\n",
       "      <td>11.9837</td>\n",
       "    </tr>\n",
       "    <tr>\n",
       "      <th>11</th>\n",
       "      <td>9.5704</td>\n",
       "      <td>12.2718</td>\n",
       "    </tr>\n",
       "    <tr>\n",
       "      <th>12</th>\n",
       "      <td>9.7728</td>\n",
       "      <td>11.5892</td>\n",
       "    </tr>\n",
       "  </tbody>\n",
       "</table>\n",
       "</div>"
      ],
      "text/plain": [
       "      BLUE   ORANGE\n",
       "0   8.7000  10.6600\n",
       "1   8.9055  11.0828\n",
       "2   8.7113  10.7100\n",
       "3   8.4346  11.5907\n",
       "4   8.7254  12.1070\n",
       "5   9.0551  11.7876\n",
       "6   8.9514  11.2078\n",
       "7   9.2439  12.5192\n",
       "8   9.1276  13.3624\n",
       "9   9.3976  14.4080\n",
       "10  9.4554  11.9837\n",
       "11  9.5704  12.2718\n",
       "12  9.7728  11.5892"
      ]
     },
     "execution_count": 66,
     "metadata": {},
     "output_type": "execute_result"
    }
   ],
   "source": [
    "#lets try this with the sample file:\n",
    "prices=pd.read_csv('data/sample_prices.csv')\n",
    "prices"
   ]
  },
  {
   "cell_type": "code",
   "execution_count": 68,
   "id": "002ff071-26fd-4e7f-b617-a54ad293de92",
   "metadata": {},
   "outputs": [
    {
     "data": {
      "text/html": [
       "<div>\n",
       "<style scoped>\n",
       "    .dataframe tbody tr th:only-of-type {\n",
       "        vertical-align: middle;\n",
       "    }\n",
       "\n",
       "    .dataframe tbody tr th {\n",
       "        vertical-align: top;\n",
       "    }\n",
       "\n",
       "    .dataframe thead th {\n",
       "        text-align: right;\n",
       "    }\n",
       "</style>\n",
       "<table border=\"1\" class=\"dataframe\">\n",
       "  <thead>\n",
       "    <tr style=\"text-align: right;\">\n",
       "      <th></th>\n",
       "      <th>BLUE</th>\n",
       "      <th>ORANGE</th>\n",
       "    </tr>\n",
       "  </thead>\n",
       "  <tbody>\n",
       "    <tr>\n",
       "      <th>0</th>\n",
       "      <td>NaN</td>\n",
       "      <td>NaN</td>\n",
       "    </tr>\n",
       "    <tr>\n",
       "      <th>1</th>\n",
       "      <td>0.023621</td>\n",
       "      <td>0.039662</td>\n",
       "    </tr>\n",
       "    <tr>\n",
       "      <th>2</th>\n",
       "      <td>-0.021807</td>\n",
       "      <td>-0.033638</td>\n",
       "    </tr>\n",
       "    <tr>\n",
       "      <th>3</th>\n",
       "      <td>-0.031763</td>\n",
       "      <td>0.082232</td>\n",
       "    </tr>\n",
       "    <tr>\n",
       "      <th>4</th>\n",
       "      <td>0.034477</td>\n",
       "      <td>0.044544</td>\n",
       "    </tr>\n",
       "    <tr>\n",
       "      <th>5</th>\n",
       "      <td>0.037786</td>\n",
       "      <td>-0.026381</td>\n",
       "    </tr>\n",
       "    <tr>\n",
       "      <th>6</th>\n",
       "      <td>-0.011452</td>\n",
       "      <td>-0.049187</td>\n",
       "    </tr>\n",
       "    <tr>\n",
       "      <th>7</th>\n",
       "      <td>0.032676</td>\n",
       "      <td>0.117008</td>\n",
       "    </tr>\n",
       "    <tr>\n",
       "      <th>8</th>\n",
       "      <td>-0.012581</td>\n",
       "      <td>0.067353</td>\n",
       "    </tr>\n",
       "    <tr>\n",
       "      <th>9</th>\n",
       "      <td>0.029581</td>\n",
       "      <td>0.078249</td>\n",
       "    </tr>\n",
       "    <tr>\n",
       "      <th>10</th>\n",
       "      <td>0.006151</td>\n",
       "      <td>-0.168261</td>\n",
       "    </tr>\n",
       "    <tr>\n",
       "      <th>11</th>\n",
       "      <td>0.012162</td>\n",
       "      <td>0.024041</td>\n",
       "    </tr>\n",
       "    <tr>\n",
       "      <th>12</th>\n",
       "      <td>0.021149</td>\n",
       "      <td>-0.055623</td>\n",
       "    </tr>\n",
       "  </tbody>\n",
       "</table>\n",
       "</div>"
      ],
      "text/plain": [
       "        BLUE    ORANGE\n",
       "0        NaN       NaN\n",
       "1   0.023621  0.039662\n",
       "2  -0.021807 -0.033638\n",
       "3  -0.031763  0.082232\n",
       "4   0.034477  0.044544\n",
       "5   0.037786 -0.026381\n",
       "6  -0.011452 -0.049187\n",
       "7   0.032676  0.117008\n",
       "8  -0.012581  0.067353\n",
       "9   0.029581  0.078249\n",
       "10  0.006151 -0.168261\n",
       "11  0.012162  0.024041\n",
       "12  0.021149 -0.055623"
      ]
     },
     "execution_count": 68,
     "metadata": {},
     "output_type": "execute_result"
    }
   ],
   "source": [
    "returns=prices.pct_change()\n",
    "returns"
   ]
  },
  {
   "cell_type": "code",
   "execution_count": 70,
   "id": "7802b3c5-148c-4bf0-ae12-5662ff5e4a28",
   "metadata": {},
   "outputs": [
    {
     "data": {
      "text/plain": [
       "<Axes: >"
      ]
     },
     "execution_count": 70,
     "metadata": {},
     "output_type": "execute_result"
    },
    {
     "data": {
      "image/png": "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",
      "text/plain": [
       "<Figure size 640x480 with 1 Axes>"
      ]
     },
     "metadata": {},
     "output_type": "display_data"
    }
   ],
   "source": [
    "prices.plot()"
   ]
  },
  {
   "cell_type": "code",
   "execution_count": 71,
   "id": "71740846-4e47-455d-81b7-c6aa6c5971e7",
   "metadata": {},
   "outputs": [
    {
     "data": {
      "text/plain": [
       "<Axes: >"
      ]
     },
     "execution_count": 71,
     "metadata": {},
     "output_type": "execute_result"
    },
    {
     "data": {
      "image/png": "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",
      "text/plain": [
       "<Figure size 640x480 with 1 Axes>"
      ]
     },
     "metadata": {},
     "output_type": "display_data"
    }
   ],
   "source": [
    "returns.plot.bar()"
   ]
  },
  {
   "cell_type": "code",
   "execution_count": 72,
   "id": "602e491b-49ae-4099-8dca-4fbb80b2fc3c",
   "metadata": {},
   "outputs": [
    {
     "data": {
      "text/html": [
       "<div>\n",
       "<style scoped>\n",
       "    .dataframe tbody tr th:only-of-type {\n",
       "        vertical-align: middle;\n",
       "    }\n",
       "\n",
       "    .dataframe tbody tr th {\n",
       "        vertical-align: top;\n",
       "    }\n",
       "\n",
       "    .dataframe thead th {\n",
       "        text-align: right;\n",
       "    }\n",
       "</style>\n",
       "<table border=\"1\" class=\"dataframe\">\n",
       "  <thead>\n",
       "    <tr style=\"text-align: right;\">\n",
       "      <th></th>\n",
       "      <th>BLUE</th>\n",
       "      <th>ORANGE</th>\n",
       "    </tr>\n",
       "  </thead>\n",
       "  <tbody>\n",
       "    <tr>\n",
       "      <th>0</th>\n",
       "      <td>NaN</td>\n",
       "      <td>NaN</td>\n",
       "    </tr>\n",
       "    <tr>\n",
       "      <th>1</th>\n",
       "      <td>0.023621</td>\n",
       "      <td>0.039662</td>\n",
       "    </tr>\n",
       "    <tr>\n",
       "      <th>2</th>\n",
       "      <td>-0.021807</td>\n",
       "      <td>-0.033638</td>\n",
       "    </tr>\n",
       "    <tr>\n",
       "      <th>3</th>\n",
       "      <td>-0.031763</td>\n",
       "      <td>0.082232</td>\n",
       "    </tr>\n",
       "    <tr>\n",
       "      <th>4</th>\n",
       "      <td>0.034477</td>\n",
       "      <td>0.044544</td>\n",
       "    </tr>\n",
       "  </tbody>\n",
       "</table>\n",
       "</div>"
      ],
      "text/plain": [
       "       BLUE    ORANGE\n",
       "0       NaN       NaN\n",
       "1  0.023621  0.039662\n",
       "2 -0.021807 -0.033638\n",
       "3 -0.031763  0.082232\n",
       "4  0.034477  0.044544"
      ]
     },
     "execution_count": 72,
     "metadata": {},
     "output_type": "execute_result"
    }
   ],
   "source": [
    "returns.head()\n",
    "#for seeing the fisrt few rows of returns"
   ]
  },
  {
   "cell_type": "code",
   "execution_count": 73,
   "id": "4273a7a4-49d8-4b25-bb29-187ddf3cb45a",
   "metadata": {},
   "outputs": [
    {
     "data": {
      "text/plain": [
       "BLUE      0.023977\n",
       "ORANGE    0.079601\n",
       "dtype: float64"
      ]
     },
     "execution_count": 73,
     "metadata": {},
     "output_type": "execute_result"
    }
   ],
   "source": [
    "#for finding the standard deviation of the returns\n",
    "returns.std()"
   ]
  },
  {
   "cell_type": "code",
   "execution_count": 75,
   "id": "68ef08c4-52e0-44e8-8fdf-1956cf52d89d",
   "metadata": {},
   "outputs": [
    {
     "data": {
      "text/plain": [
       "BLUE      0.01\n",
       "ORANGE    0.01\n",
       "dtype: float64"
      ]
     },
     "execution_count": 75,
     "metadata": {},
     "output_type": "execute_result"
    }
   ],
   "source": [
    "returns.mean()"
   ]
  },
  {
   "cell_type": "code",
   "execution_count": 80,
   "id": "accc6fb0-4b01-4d19-a460-abe97a1ddf64",
   "metadata": {},
   "outputs": [
    {
     "name": "stderr",
     "output_type": "stream",
     "text": [
      "/Library/anaconda3/lib/python3.12/site-packages/numpy/core/fromnumeric.py:86: FutureWarning: The behavior of DataFrame.prod with axis=None is deprecated, in a future version this will reduce over both axes and return a scalar. To retain the old behavior, pass axis=0 (or do not pass axis)\n",
      "  return reduction(axis=axis, out=out, **passkwargs)\n"
     ]
    },
    {
     "data": {
      "text/plain": [
       "BLUE      0.123310\n",
       "ORANGE    0.087167\n",
       "dtype: float64"
      ]
     },
     "execution_count": 80,
     "metadata": {},
     "output_type": "execute_result"
    }
   ],
   "source": [
    "#lets compound thos two series of returns\n",
    "returns+1\n",
    "#and now i want to multiply each\n",
    "np.prod(returns+1)-1"
   ]
  },
  {
   "cell_type": "code",
   "execution_count": 82,
   "id": "8fb636a4-bca9-4116-935e-ba75796f517d",
   "metadata": {},
   "outputs": [
    {
     "data": {
      "text/plain": [
       "BLUE      0.123310\n",
       "ORANGE    0.087167\n",
       "dtype: float64"
      ]
     },
     "execution_count": 82,
     "metadata": {},
     "output_type": "execute_result"
    }
   ],
   "source": [
    "#or\n",
    "(returns+1).prod()-1"
   ]
  },
  {
   "cell_type": "code",
   "execution_count": 84,
   "id": "61b2a49a-5b7e-4dda-b013-45e505ba941a",
   "metadata": {},
   "outputs": [
    {
     "data": {
      "text/plain": [
       "1.1268250301319698"
      ]
     },
     "execution_count": 84,
     "metadata": {},
     "output_type": "execute_result"
    }
   ],
   "source": [
    "#annualization\n",
    "rm=0.01\n",
    "(1+rm)**12"
   ]
  },
  {
   "cell_type": "markdown",
   "id": "e13a3aeb-8b68-4b8f-9398-cc8c93d264ce",
   "metadata": {},
   "source": [
    "# LabSession-RiskAdjustedReturns"
   ]
  },
  {
   "cell_type": "code",
   "execution_count": 87,
   "id": "4c10f9c2-fb4c-4107-97a3-38ed227f778d",
   "metadata": {},
   "outputs": [
    {
     "data": {
      "text/html": [
       "<div>\n",
       "<style scoped>\n",
       "    .dataframe tbody tr th:only-of-type {\n",
       "        vertical-align: middle;\n",
       "    }\n",
       "\n",
       "    .dataframe tbody tr th {\n",
       "        vertical-align: top;\n",
       "    }\n",
       "\n",
       "    .dataframe thead th {\n",
       "        text-align: right;\n",
       "    }\n",
       "</style>\n",
       "<table border=\"1\" class=\"dataframe\">\n",
       "  <thead>\n",
       "    <tr style=\"text-align: right;\">\n",
       "      <th></th>\n",
       "      <th>BLUE</th>\n",
       "      <th>ORANGE</th>\n",
       "    </tr>\n",
       "  </thead>\n",
       "  <tbody>\n",
       "    <tr>\n",
       "      <th>0</th>\n",
       "      <td>NaN</td>\n",
       "      <td>NaN</td>\n",
       "    </tr>\n",
       "    <tr>\n",
       "      <th>1</th>\n",
       "      <td>0.023621</td>\n",
       "      <td>0.039662</td>\n",
       "    </tr>\n",
       "    <tr>\n",
       "      <th>2</th>\n",
       "      <td>-0.021807</td>\n",
       "      <td>-0.033638</td>\n",
       "    </tr>\n",
       "    <tr>\n",
       "      <th>3</th>\n",
       "      <td>-0.031763</td>\n",
       "      <td>0.082232</td>\n",
       "    </tr>\n",
       "    <tr>\n",
       "      <th>4</th>\n",
       "      <td>0.034477</td>\n",
       "      <td>0.044544</td>\n",
       "    </tr>\n",
       "    <tr>\n",
       "      <th>5</th>\n",
       "      <td>0.037786</td>\n",
       "      <td>-0.026381</td>\n",
       "    </tr>\n",
       "    <tr>\n",
       "      <th>6</th>\n",
       "      <td>-0.011452</td>\n",
       "      <td>-0.049187</td>\n",
       "    </tr>\n",
       "    <tr>\n",
       "      <th>7</th>\n",
       "      <td>0.032676</td>\n",
       "      <td>0.117008</td>\n",
       "    </tr>\n",
       "    <tr>\n",
       "      <th>8</th>\n",
       "      <td>-0.012581</td>\n",
       "      <td>0.067353</td>\n",
       "    </tr>\n",
       "    <tr>\n",
       "      <th>9</th>\n",
       "      <td>0.029581</td>\n",
       "      <td>0.078249</td>\n",
       "    </tr>\n",
       "    <tr>\n",
       "      <th>10</th>\n",
       "      <td>0.006151</td>\n",
       "      <td>-0.168261</td>\n",
       "    </tr>\n",
       "    <tr>\n",
       "      <th>11</th>\n",
       "      <td>0.012162</td>\n",
       "      <td>0.024041</td>\n",
       "    </tr>\n",
       "    <tr>\n",
       "      <th>12</th>\n",
       "      <td>0.021149</td>\n",
       "      <td>-0.055623</td>\n",
       "    </tr>\n",
       "  </tbody>\n",
       "</table>\n",
       "</div>"
      ],
      "text/plain": [
       "        BLUE    ORANGE\n",
       "0        NaN       NaN\n",
       "1   0.023621  0.039662\n",
       "2  -0.021807 -0.033638\n",
       "3  -0.031763  0.082232\n",
       "4   0.034477  0.044544\n",
       "5   0.037786 -0.026381\n",
       "6  -0.011452 -0.049187\n",
       "7   0.032676  0.117008\n",
       "8  -0.012581  0.067353\n",
       "9   0.029581  0.078249\n",
       "10  0.006151 -0.168261\n",
       "11  0.012162  0.024041\n",
       "12  0.021149 -0.055623"
      ]
     },
     "execution_count": 87,
     "metadata": {},
     "output_type": "execute_result"
    }
   ],
   "source": [
    "import pandas as pd\n",
    "prices=pd.read_csv(\"data/sample_prices.csv\")\n",
    "returns=prices.pct_change()\n",
    "returns\n",
    "#i got the pct change "
   ]
  },
  {
   "cell_type": "code",
   "execution_count": 89,
   "id": "0b6268ae-b325-4561-9713-844b517b037f",
   "metadata": {},
   "outputs": [
    {
     "data": {
      "text/html": [
       "<div>\n",
       "<style scoped>\n",
       "    .dataframe tbody tr th:only-of-type {\n",
       "        vertical-align: middle;\n",
       "    }\n",
       "\n",
       "    .dataframe tbody tr th {\n",
       "        vertical-align: top;\n",
       "    }\n",
       "\n",
       "    .dataframe thead th {\n",
       "        text-align: right;\n",
       "    }\n",
       "</style>\n",
       "<table border=\"1\" class=\"dataframe\">\n",
       "  <thead>\n",
       "    <tr style=\"text-align: right;\">\n",
       "      <th></th>\n",
       "      <th>BLUE</th>\n",
       "      <th>ORANGE</th>\n",
       "    </tr>\n",
       "  </thead>\n",
       "  <tbody>\n",
       "    <tr>\n",
       "      <th>1</th>\n",
       "      <td>0.023621</td>\n",
       "      <td>0.039662</td>\n",
       "    </tr>\n",
       "    <tr>\n",
       "      <th>2</th>\n",
       "      <td>-0.021807</td>\n",
       "      <td>-0.033638</td>\n",
       "    </tr>\n",
       "    <tr>\n",
       "      <th>3</th>\n",
       "      <td>-0.031763</td>\n",
       "      <td>0.082232</td>\n",
       "    </tr>\n",
       "    <tr>\n",
       "      <th>4</th>\n",
       "      <td>0.034477</td>\n",
       "      <td>0.044544</td>\n",
       "    </tr>\n",
       "    <tr>\n",
       "      <th>5</th>\n",
       "      <td>0.037786</td>\n",
       "      <td>-0.026381</td>\n",
       "    </tr>\n",
       "    <tr>\n",
       "      <th>6</th>\n",
       "      <td>-0.011452</td>\n",
       "      <td>-0.049187</td>\n",
       "    </tr>\n",
       "    <tr>\n",
       "      <th>7</th>\n",
       "      <td>0.032676</td>\n",
       "      <td>0.117008</td>\n",
       "    </tr>\n",
       "    <tr>\n",
       "      <th>8</th>\n",
       "      <td>-0.012581</td>\n",
       "      <td>0.067353</td>\n",
       "    </tr>\n",
       "    <tr>\n",
       "      <th>9</th>\n",
       "      <td>0.029581</td>\n",
       "      <td>0.078249</td>\n",
       "    </tr>\n",
       "    <tr>\n",
       "      <th>10</th>\n",
       "      <td>0.006151</td>\n",
       "      <td>-0.168261</td>\n",
       "    </tr>\n",
       "    <tr>\n",
       "      <th>11</th>\n",
       "      <td>0.012162</td>\n",
       "      <td>0.024041</td>\n",
       "    </tr>\n",
       "    <tr>\n",
       "      <th>12</th>\n",
       "      <td>0.021149</td>\n",
       "      <td>-0.055623</td>\n",
       "    </tr>\n",
       "  </tbody>\n",
       "</table>\n",
       "</div>"
      ],
      "text/plain": [
       "        BLUE    ORANGE\n",
       "1   0.023621  0.039662\n",
       "2  -0.021807 -0.033638\n",
       "3  -0.031763  0.082232\n",
       "4   0.034477  0.044544\n",
       "5   0.037786 -0.026381\n",
       "6  -0.011452 -0.049187\n",
       "7   0.032676  0.117008\n",
       "8  -0.012581  0.067353\n",
       "9   0.029581  0.078249\n",
       "10  0.006151 -0.168261\n",
       "11  0.012162  0.024041\n",
       "12  0.021149 -0.055623"
      ]
     },
     "execution_count": 89,
     "metadata": {},
     "output_type": "execute_result"
    }
   ],
   "source": [
    "returns=returns.dropna()\n",
    "returns\n",
    "#if i want to not have the first line that the pct change does not exists"
   ]
  },
  {
   "cell_type": "code",
   "execution_count": 91,
   "id": "a7335d1d-6ab7-44b3-b318-604b53ce18e4",
   "metadata": {},
   "outputs": [
    {
     "data": {
      "text/plain": [
       "BLUE      0.023977\n",
       "ORANGE    0.079601\n",
       "dtype: float64"
      ]
     },
     "execution_count": 91,
     "metadata": {},
     "output_type": "execute_result"
    }
   ],
   "source": [
    "#we can compute the risk(volatility) by computing the standard deviation\n",
    "returns.std()"
   ]
  },
  {
   "cell_type": "code",
   "execution_count": 93,
   "id": "ee9cd201-433d-4813-ba1b-a47b10f2f3d2",
   "metadata": {},
   "outputs": [
    {
     "data": {
      "text/plain": [
       "BLUE      0.022957\n",
       "ORANGE    0.076212\n",
       "dtype: float64"
      ]
     },
     "execution_count": 93,
     "metadata": {},
     "output_type": "execute_result"
    }
   ],
   "source": [
    "#or\n",
    "deviations=returns-returns.mean()\n",
    "squared_deviations=deviations**2\n",
    "variance=squared_deviations.mean()\n",
    "import numpy as np\n",
    "volatility=np.sqrt(variance)\n",
    "volatility"
   ]
  },
  {
   "cell_type": "code",
   "execution_count": 95,
   "id": "35f48cbf-abf3-483a-aa9e-d6a73989d4e4",
   "metadata": {},
   "outputs": [],
   "source": [
    "number_of_obs=returns.shape[0]\n",
    "variance=squared_deviations.sum()/(number_of_obs-1)\n",
    "volatility=variance**0.5"
   ]
  },
  {
   "cell_type": "code",
   "execution_count": 97,
   "id": "add6b387-684a-42ff-b1d2-ce46b65ed88e",
   "metadata": {},
   "outputs": [
    {
     "data": {
      "text/plain": [
       "BLUE      0.023977\n",
       "ORANGE    0.079601\n",
       "dtype: float64"
      ]
     },
     "execution_count": 97,
     "metadata": {},
     "output_type": "execute_result"
    }
   ],
   "source": [
    "volatility"
   ]
  },
  {
   "cell_type": "code",
   "execution_count": 99,
   "id": "f1e1cd49-dddd-45e5-a5dd-ec2ffbca7894",
   "metadata": {},
   "outputs": [
    {
     "data": {
      "text/plain": [
       "BLUE      0.023977\n",
       "ORANGE    0.079601\n",
       "dtype: float64"
      ]
     },
     "execution_count": 99,
     "metadata": {},
     "output_type": "execute_result"
    }
   ],
   "source": [
    "returns.std()"
   ]
  },
  {
   "cell_type": "code",
   "execution_count": 101,
   "id": "62eb666b-40d4-4eb6-89a1-e7105174e941",
   "metadata": {},
   "outputs": [
    {
     "data": {
      "text/plain": [
       "BLUE      0.083060\n",
       "ORANGE    0.275747\n",
       "dtype: float64"
      ]
     },
     "execution_count": 101,
     "metadata": {},
     "output_type": "execute_result"
    }
   ],
   "source": [
    "#annualize it\n",
    "returns.std()*np.sqrt(12)"
   ]
  },
  {
   "cell_type": "code",
   "execution_count": 103,
   "id": "ca64b713-d394-4f00-bffd-4b847932ae56",
   "metadata": {},
   "outputs": [
    {
     "data": {
      "text/plain": [
       "BLUE      0.083060\n",
       "ORANGE    0.275747\n",
       "dtype: float64"
      ]
     },
     "execution_count": 103,
     "metadata": {},
     "output_type": "execute_result"
    }
   ],
   "source": [
    "#or\n",
    "returns.std()*(12**0.5)"
   ]
  },
  {
   "cell_type": "markdown",
   "id": "4d2ac517-d00d-40d3-93c7-afd339da920a",
   "metadata": {},
   "source": [
    "## changing spreadshit"
   ]
  },
  {
   "cell_type": "code",
   "execution_count": 106,
   "id": "2144469f-6281-4147-80f9-5c63d75ab64b",
   "metadata": {},
   "outputs": [
    {
     "data": {
      "text/html": [
       "<div>\n",
       "<style scoped>\n",
       "    .dataframe tbody tr th:only-of-type {\n",
       "        vertical-align: middle;\n",
       "    }\n",
       "\n",
       "    .dataframe tbody tr th {\n",
       "        vertical-align: top;\n",
       "    }\n",
       "\n",
       "    .dataframe thead th {\n",
       "        text-align: right;\n",
       "    }\n",
       "</style>\n",
       "<table border=\"1\" class=\"dataframe\">\n",
       "  <thead>\n",
       "    <tr style=\"text-align: right;\">\n",
       "      <th></th>\n",
       "      <th>&lt;= 0</th>\n",
       "      <th>Lo 30</th>\n",
       "      <th>Med 40</th>\n",
       "      <th>Hi 30</th>\n",
       "      <th>Lo 20</th>\n",
       "      <th>Qnt 2</th>\n",
       "      <th>Qnt 3</th>\n",
       "      <th>Qnt 4</th>\n",
       "      <th>Hi 20</th>\n",
       "      <th>Lo 10</th>\n",
       "      <th>Dec 2</th>\n",
       "      <th>Dec 3</th>\n",
       "      <th>Dec 4</th>\n",
       "      <th>Dec 5</th>\n",
       "      <th>Dec 6</th>\n",
       "      <th>Dec 7</th>\n",
       "      <th>Dec 8</th>\n",
       "      <th>Dec 9</th>\n",
       "      <th>Hi 10</th>\n",
       "    </tr>\n",
       "  </thead>\n",
       "  <tbody>\n",
       "    <tr>\n",
       "      <th>192607</th>\n",
       "      <td>NaN</td>\n",
       "      <td>-0.43</td>\n",
       "      <td>1.52</td>\n",
       "      <td>2.68</td>\n",
       "      <td>-0.57</td>\n",
       "      <td>0.59</td>\n",
       "      <td>1.60</td>\n",
       "      <td>1.47</td>\n",
       "      <td>3.33</td>\n",
       "      <td>-1.45</td>\n",
       "      <td>0.29</td>\n",
       "      <td>-0.15</td>\n",
       "      <td>1.33</td>\n",
       "      <td>1.24</td>\n",
       "      <td>1.98</td>\n",
       "      <td>1.55</td>\n",
       "      <td>1.38</td>\n",
       "      <td>3.38</td>\n",
       "      <td>3.29</td>\n",
       "    </tr>\n",
       "    <tr>\n",
       "      <th>192608</th>\n",
       "      <td>NaN</td>\n",
       "      <td>3.90</td>\n",
       "      <td>3.04</td>\n",
       "      <td>2.09</td>\n",
       "      <td>3.84</td>\n",
       "      <td>3.59</td>\n",
       "      <td>3.71</td>\n",
       "      <td>1.61</td>\n",
       "      <td>2.33</td>\n",
       "      <td>5.12</td>\n",
       "      <td>2.59</td>\n",
       "      <td>4.03</td>\n",
       "      <td>3.15</td>\n",
       "      <td>2.72</td>\n",
       "      <td>4.72</td>\n",
       "      <td>1.60</td>\n",
       "      <td>1.63</td>\n",
       "      <td>0.98</td>\n",
       "      <td>3.70</td>\n",
       "    </tr>\n",
       "    <tr>\n",
       "      <th>192609</th>\n",
       "      <td>NaN</td>\n",
       "      <td>-1.08</td>\n",
       "      <td>-0.54</td>\n",
       "      <td>0.16</td>\n",
       "      <td>-0.48</td>\n",
       "      <td>-1.40</td>\n",
       "      <td>0.00</td>\n",
       "      <td>-0.50</td>\n",
       "      <td>-0.09</td>\n",
       "      <td>0.93</td>\n",
       "      <td>-1.87</td>\n",
       "      <td>-2.27</td>\n",
       "      <td>-0.53</td>\n",
       "      <td>0.07</td>\n",
       "      <td>-0.07</td>\n",
       "      <td>-1.64</td>\n",
       "      <td>0.64</td>\n",
       "      <td>-0.86</td>\n",
       "      <td>0.67</td>\n",
       "    </tr>\n",
       "    <tr>\n",
       "      <th>192610</th>\n",
       "      <td>NaN</td>\n",
       "      <td>-3.32</td>\n",
       "      <td>-3.52</td>\n",
       "      <td>-3.06</td>\n",
       "      <td>-3.29</td>\n",
       "      <td>-4.10</td>\n",
       "      <td>-2.89</td>\n",
       "      <td>-3.36</td>\n",
       "      <td>-2.95</td>\n",
       "      <td>-4.84</td>\n",
       "      <td>-1.77</td>\n",
       "      <td>-3.36</td>\n",
       "      <td>-4.83</td>\n",
       "      <td>-2.98</td>\n",
       "      <td>-2.80</td>\n",
       "      <td>-3.45</td>\n",
       "      <td>-3.27</td>\n",
       "      <td>-3.47</td>\n",
       "      <td>-2.43</td>\n",
       "    </tr>\n",
       "    <tr>\n",
       "      <th>192611</th>\n",
       "      <td>NaN</td>\n",
       "      <td>-0.46</td>\n",
       "      <td>3.82</td>\n",
       "      <td>3.09</td>\n",
       "      <td>-0.55</td>\n",
       "      <td>2.18</td>\n",
       "      <td>3.41</td>\n",
       "      <td>3.39</td>\n",
       "      <td>3.16</td>\n",
       "      <td>-0.78</td>\n",
       "      <td>-0.32</td>\n",
       "      <td>-0.29</td>\n",
       "      <td>4.65</td>\n",
       "      <td>3.24</td>\n",
       "      <td>3.57</td>\n",
       "      <td>3.82</td>\n",
       "      <td>2.95</td>\n",
       "      <td>3.61</td>\n",
       "      <td>2.70</td>\n",
       "    </tr>\n",
       "  </tbody>\n",
       "</table>\n",
       "</div>"
      ],
      "text/plain": [
       "        <= 0  Lo 30  Med 40  Hi 30  Lo 20  Qnt 2  Qnt 3  Qnt 4  Hi 20  Lo 10  \\\n",
       "192607   NaN  -0.43    1.52   2.68  -0.57   0.59   1.60   1.47   3.33  -1.45   \n",
       "192608   NaN   3.90    3.04   2.09   3.84   3.59   3.71   1.61   2.33   5.12   \n",
       "192609   NaN  -1.08   -0.54   0.16  -0.48  -1.40   0.00  -0.50  -0.09   0.93   \n",
       "192610   NaN  -3.32   -3.52  -3.06  -3.29  -4.10  -2.89  -3.36  -2.95  -4.84   \n",
       "192611   NaN  -0.46    3.82   3.09  -0.55   2.18   3.41   3.39   3.16  -0.78   \n",
       "\n",
       "        Dec 2  Dec 3  Dec 4  Dec 5  Dec 6  Dec 7  Dec 8  Dec 9  Hi 10  \n",
       "192607   0.29  -0.15   1.33   1.24   1.98   1.55   1.38   3.38   3.29  \n",
       "192608   2.59   4.03   3.15   2.72   4.72   1.60   1.63   0.98   3.70  \n",
       "192609  -1.87  -2.27  -0.53   0.07  -0.07  -1.64   0.64  -0.86   0.67  \n",
       "192610  -1.77  -3.36  -4.83  -2.98  -2.80  -3.45  -3.27  -3.47  -2.43  \n",
       "192611  -0.32  -0.29   4.65   3.24   3.57   3.82   2.95   3.61   2.70  "
      ]
     },
     "execution_count": 106,
     "metadata": {},
     "output_type": "execute_result"
    }
   ],
   "source": [
    "returns=pd.read_csv(\"data/Portfolios_Formed_on_ME_monthly_EW.csv\",\n",
    "                   header=0,index_col=0,na_values=-99.99)\n",
    "returns.head()"
   ]
  },
  {
   "cell_type": "code",
   "execution_count": 108,
   "id": "1cc678de-c834-4061-aa4c-d6f7b1476f5f",
   "metadata": {},
   "outputs": [
    {
     "data": {
      "text/html": [
       "<div>\n",
       "<style scoped>\n",
       "    .dataframe tbody tr th:only-of-type {\n",
       "        vertical-align: middle;\n",
       "    }\n",
       "\n",
       "    .dataframe tbody tr th {\n",
       "        vertical-align: top;\n",
       "    }\n",
       "\n",
       "    .dataframe thead th {\n",
       "        text-align: right;\n",
       "    }\n",
       "</style>\n",
       "<table border=\"1\" class=\"dataframe\">\n",
       "  <thead>\n",
       "    <tr style=\"text-align: right;\">\n",
       "      <th></th>\n",
       "      <th>Lo 10</th>\n",
       "      <th>Hi 10</th>\n",
       "    </tr>\n",
       "  </thead>\n",
       "  <tbody>\n",
       "    <tr>\n",
       "      <th>192607</th>\n",
       "      <td>-1.45</td>\n",
       "      <td>3.29</td>\n",
       "    </tr>\n",
       "    <tr>\n",
       "      <th>192608</th>\n",
       "      <td>5.12</td>\n",
       "      <td>3.70</td>\n",
       "    </tr>\n",
       "    <tr>\n",
       "      <th>192609</th>\n",
       "      <td>0.93</td>\n",
       "      <td>0.67</td>\n",
       "    </tr>\n",
       "    <tr>\n",
       "      <th>192610</th>\n",
       "      <td>-4.84</td>\n",
       "      <td>-2.43</td>\n",
       "    </tr>\n",
       "    <tr>\n",
       "      <th>192611</th>\n",
       "      <td>-0.78</td>\n",
       "      <td>2.70</td>\n",
       "    </tr>\n",
       "  </tbody>\n",
       "</table>\n",
       "</div>"
      ],
      "text/plain": [
       "        Lo 10  Hi 10\n",
       "192607  -1.45   3.29\n",
       "192608   5.12   3.70\n",
       "192609   0.93   0.67\n",
       "192610  -4.84  -2.43\n",
       "192611  -0.78   2.70"
      ]
     },
     "execution_count": 108,
     "metadata": {},
     "output_type": "execute_result"
    }
   ],
   "source": [
    "columns=['Lo 10','Hi 10']\n",
    "returns=returns[columns]\n",
    "returns.head()"
   ]
  },
  {
   "cell_type": "code",
   "execution_count": 110,
   "id": "6e38cc5a-80f0-449e-914e-e723ab1e1200",
   "metadata": {},
   "outputs": [
    {
     "data": {
      "text/html": [
       "<div>\n",
       "<style scoped>\n",
       "    .dataframe tbody tr th:only-of-type {\n",
       "        vertical-align: middle;\n",
       "    }\n",
       "\n",
       "    .dataframe tbody tr th {\n",
       "        vertical-align: top;\n",
       "    }\n",
       "\n",
       "    .dataframe thead th {\n",
       "        text-align: right;\n",
       "    }\n",
       "</style>\n",
       "<table border=\"1\" class=\"dataframe\">\n",
       "  <thead>\n",
       "    <tr style=\"text-align: right;\">\n",
       "      <th></th>\n",
       "      <th>Lo 10</th>\n",
       "      <th>Hi 10</th>\n",
       "    </tr>\n",
       "  </thead>\n",
       "  <tbody>\n",
       "    <tr>\n",
       "      <th>192607</th>\n",
       "      <td>-0.0145</td>\n",
       "      <td>0.0329</td>\n",
       "    </tr>\n",
       "    <tr>\n",
       "      <th>192608</th>\n",
       "      <td>0.0512</td>\n",
       "      <td>0.0370</td>\n",
       "    </tr>\n",
       "    <tr>\n",
       "      <th>192609</th>\n",
       "      <td>0.0093</td>\n",
       "      <td>0.0067</td>\n",
       "    </tr>\n",
       "    <tr>\n",
       "      <th>192610</th>\n",
       "      <td>-0.0484</td>\n",
       "      <td>-0.0243</td>\n",
       "    </tr>\n",
       "    <tr>\n",
       "      <th>192611</th>\n",
       "      <td>-0.0078</td>\n",
       "      <td>0.0270</td>\n",
       "    </tr>\n",
       "  </tbody>\n",
       "</table>\n",
       "</div>"
      ],
      "text/plain": [
       "         Lo 10   Hi 10\n",
       "192607 -0.0145  0.0329\n",
       "192608  0.0512  0.0370\n",
       "192609  0.0093  0.0067\n",
       "192610 -0.0484 -0.0243\n",
       "192611 -0.0078  0.0270"
      ]
     },
     "execution_count": 110,
     "metadata": {},
     "output_type": "execute_result"
    }
   ],
   "source": [
    "returns=returns/100\n",
    "returns.head()"
   ]
  },
  {
   "cell_type": "code",
   "execution_count": 112,
   "id": "c4cbdd9d-54f1-4f08-8072-99ac1f4475b1",
   "metadata": {},
   "outputs": [
    {
     "data": {
      "text/html": [
       "<div>\n",
       "<style scoped>\n",
       "    .dataframe tbody tr th:only-of-type {\n",
       "        vertical-align: middle;\n",
       "    }\n",
       "\n",
       "    .dataframe tbody tr th {\n",
       "        vertical-align: top;\n",
       "    }\n",
       "\n",
       "    .dataframe thead th {\n",
       "        text-align: right;\n",
       "    }\n",
       "</style>\n",
       "<table border=\"1\" class=\"dataframe\">\n",
       "  <thead>\n",
       "    <tr style=\"text-align: right;\">\n",
       "      <th></th>\n",
       "      <th>SmallCap</th>\n",
       "      <th>LargeCap</th>\n",
       "    </tr>\n",
       "  </thead>\n",
       "  <tbody>\n",
       "    <tr>\n",
       "      <th>192607</th>\n",
       "      <td>-0.0145</td>\n",
       "      <td>0.0329</td>\n",
       "    </tr>\n",
       "    <tr>\n",
       "      <th>192608</th>\n",
       "      <td>0.0512</td>\n",
       "      <td>0.0370</td>\n",
       "    </tr>\n",
       "    <tr>\n",
       "      <th>192609</th>\n",
       "      <td>0.0093</td>\n",
       "      <td>0.0067</td>\n",
       "    </tr>\n",
       "    <tr>\n",
       "      <th>192610</th>\n",
       "      <td>-0.0484</td>\n",
       "      <td>-0.0243</td>\n",
       "    </tr>\n",
       "    <tr>\n",
       "      <th>192611</th>\n",
       "      <td>-0.0078</td>\n",
       "      <td>0.0270</td>\n",
       "    </tr>\n",
       "  </tbody>\n",
       "</table>\n",
       "</div>"
      ],
      "text/plain": [
       "        SmallCap  LargeCap\n",
       "192607   -0.0145    0.0329\n",
       "192608    0.0512    0.0370\n",
       "192609    0.0093    0.0067\n",
       "192610   -0.0484   -0.0243\n",
       "192611   -0.0078    0.0270"
      ]
     },
     "execution_count": 112,
     "metadata": {},
     "output_type": "execute_result"
    }
   ],
   "source": [
    "returns.columns=['SmallCap','LargeCap']\n",
    "returns.head()"
   ]
  },
  {
   "cell_type": "code",
   "execution_count": 114,
   "id": "3eb1f1ae-111b-4747-a2e1-a9ae6dad4cb0",
   "metadata": {},
   "outputs": [
    {
     "data": {
      "text/plain": [
       "<Axes: >"
      ]
     },
     "execution_count": 114,
     "metadata": {},
     "output_type": "execute_result"
    },
    {
     "data": {
      "image/png": "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",
      "text/plain": [
       "<Figure size 640x480 with 1 Axes>"
      ]
     },
     "metadata": {},
     "output_type": "display_data"
    }
   ],
   "source": [
    "returns.plot.line()"
   ]
  },
  {
   "cell_type": "code",
   "execution_count": 116,
   "id": "d028f5a5-4379-4577-bc91-c89a0f5bd6d0",
   "metadata": {},
   "outputs": [
    {
     "data": {
      "text/plain": [
       "SmallCap    0.106288\n",
       "LargeCap    0.053900\n",
       "dtype: float64"
      ]
     },
     "execution_count": 116,
     "metadata": {},
     "output_type": "execute_result"
    }
   ],
   "source": [
    "returns.std()"
   ]
  },
  {
   "cell_type": "code",
   "execution_count": 118,
   "id": "5247f985-f95d-484c-b66c-35d4bbad8d9a",
   "metadata": {},
   "outputs": [
    {
     "data": {
      "text/plain": [
       "SmallCap    0.368193\n",
       "LargeCap    0.186716\n",
       "dtype: float64"
      ]
     },
     "execution_count": 118,
     "metadata": {},
     "output_type": "execute_result"
    }
   ],
   "source": [
    "annualized_vol=returns.std()*np.sqrt(12)\n",
    "annualized_vol"
   ]
  },
  {
   "cell_type": "code",
   "execution_count": 120,
   "id": "d90b49a6-1c74-4477-aa6c-3383cf8360c3",
   "metadata": {},
   "outputs": [
    {
     "data": {
      "text/plain": [
       "SmallCap    0.012986\n",
       "LargeCap    0.007423\n",
       "dtype: float64"
      ]
     },
     "execution_count": 120,
     "metadata": {},
     "output_type": "execute_result"
    }
   ],
   "source": [
    "#how do I annualize the returns:\n",
    "n_months=returns.shape[0]\n",
    "return_per_month=(returns+1).prod()**(1/n_months)-1\n",
    "return_per_month"
   ]
  },
  {
   "cell_type": "code",
   "execution_count": 122,
   "id": "90a55331-0ef8-4a4f-9050-c979fa9c3a4e",
   "metadata": {},
   "outputs": [
    {
     "data": {
      "text/plain": [
       "SmallCap    0.368193\n",
       "LargeCap    0.186716\n",
       "dtype: float64"
      ]
     },
     "execution_count": 122,
     "metadata": {},
     "output_type": "execute_result"
    }
   ],
   "source": [
    "annualized_vol"
   ]
  },
  {
   "cell_type": "code",
   "execution_count": 124,
   "id": "eef0d6a5-0218-4022-9cd8-8b445d565e02",
   "metadata": {},
   "outputs": [
    {
     "data": {
      "text/plain": [
       "SmallCap    0.167463\n",
       "LargeCap    0.092810\n",
       "dtype: float64"
      ]
     },
     "execution_count": 124,
     "metadata": {},
     "output_type": "execute_result"
    }
   ],
   "source": [
    "annualized_return=(return_per_month+1)**12-1\n",
    "annualized_return"
   ]
  },
  {
   "cell_type": "code",
   "execution_count": 126,
   "id": "3c4f06fe-6f33-4f9d-81e8-24ee323818bc",
   "metadata": {},
   "outputs": [
    {
     "data": {
      "text/plain": [
       "SmallCap    0.167463\n",
       "LargeCap    0.092810\n",
       "dtype: float64"
      ]
     },
     "execution_count": 126,
     "metadata": {},
     "output_type": "execute_result"
    }
   ],
   "source": [
    "#all of the stuf in only one step:\n",
    "annualized_return=(returns+1).prod()**(12/n_months)-1\n",
    "annualized_return"
   ]
  },
  {
   "cell_type": "code",
   "execution_count": 128,
   "id": "4330f5c0-a9d9-46e3-be48-f20849d6665e",
   "metadata": {},
   "outputs": [
    {
     "data": {
      "text/plain": [
       "SmallCap    0.454825\n",
       "LargeCap    0.497063\n",
       "dtype: float64"
      ]
     },
     "execution_count": 128,
     "metadata": {},
     "output_type": "execute_result"
    }
   ],
   "source": [
    "annualized_return/annualized_vol"
   ]
  },
  {
   "cell_type": "markdown",
   "id": "14337d7f-de3c-419a-be96-a987db362dcb",
   "metadata": {},
   "source": [
    "# computing the Sharpe Ratio"
   ]
  },
  {
   "cell_type": "code",
   "execution_count": 131,
   "id": "e05eb4d9-63b8-49ed-b078-f25178f6194b",
   "metadata": {},
   "outputs": [
    {
     "data": {
      "text/plain": [
       "SmallCap    0.373346\n",
       "LargeCap    0.336392\n",
       "dtype: float64"
      ]
     },
     "execution_count": 131,
     "metadata": {},
     "output_type": "execute_result"
    }
   ],
   "source": [
    "riskfree_rate=0.03\n",
    "excess_return=annualized_return-riskfree_rate\n",
    "sharpe_ratio=excess_return/annualized_vol\n",
    "sharpe_ratio"
   ]
  },
  {
   "cell_type": "markdown",
   "id": "8f001f2e-7f7a-4bbd-b259-e4c35d81c7b8",
   "metadata": {},
   "source": [
    "# Compute Drawdowns"
   ]
  },
  {
   "cell_type": "code",
   "execution_count": 134,
   "id": "4ad4a6fc-dce1-4156-b4a7-cd73d6d53f1b",
   "metadata": {},
   "outputs": [
    {
     "name": "stderr",
     "output_type": "stream",
     "text": [
      "/var/folders/h6/d5tc6_196dnckhpz6_d7jxrc0000gn/T/ipykernel_33218/2812184780.py:2: UserWarning: Could not infer format, so each element will be parsed individually, falling back to `dateutil`. To ensure parsing is consistent and as-expected, please specify a format.\n",
      "  me_m=pd.read_csv(\"data/Portfolios_Formed_on_ME_monthly_EW.csv\",\n"
     ]
    },
    {
     "data": {
      "text/plain": [
       "<Axes: >"
      ]
     },
     "execution_count": 134,
     "metadata": {},
     "output_type": "execute_result"
    },
    {
     "data": {
      "image/png": "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",
      "text/plain": [
       "<Figure size 640x480 with 1 Axes>"
      ]
     },
     "metadata": {},
     "output_type": "display_data"
    }
   ],
   "source": [
    "import pandas as pd\n",
    "me_m=pd.read_csv(\"data/Portfolios_Formed_on_ME_monthly_EW.csv\",\n",
    "                 header=0, index_col=0,na_values=-99.9,parse_dates=True)\n",
    "rets=me_m[['Lo 10','Hi 10']]\n",
    "rets.columns=['SmallCap','LargeCap']\n",
    "rets=rets/100\n",
    "rets.plot.line()"
   ]
  },
  {
   "cell_type": "code",
   "execution_count": 136,
   "id": "4ff86675-aa3b-4c2d-8711-cabd6645f853",
   "metadata": {},
   "outputs": [
    {
     "data": {
      "text/html": [
       "<div>\n",
       "<style scoped>\n",
       "    .dataframe tbody tr th:only-of-type {\n",
       "        vertical-align: middle;\n",
       "    }\n",
       "\n",
       "    .dataframe tbody tr th {\n",
       "        vertical-align: top;\n",
       "    }\n",
       "\n",
       "    .dataframe thead th {\n",
       "        text-align: right;\n",
       "    }\n",
       "</style>\n",
       "<table border=\"1\" class=\"dataframe\">\n",
       "  <thead>\n",
       "    <tr style=\"text-align: right;\">\n",
       "      <th></th>\n",
       "      <th>SmallCap</th>\n",
       "      <th>LargeCap</th>\n",
       "    </tr>\n",
       "  </thead>\n",
       "  <tbody>\n",
       "    <tr>\n",
       "      <th>192607</th>\n",
       "      <td>-0.0145</td>\n",
       "      <td>0.0329</td>\n",
       "    </tr>\n",
       "    <tr>\n",
       "      <th>192608</th>\n",
       "      <td>0.0512</td>\n",
       "      <td>0.0370</td>\n",
       "    </tr>\n",
       "    <tr>\n",
       "      <th>192609</th>\n",
       "      <td>0.0093</td>\n",
       "      <td>0.0067</td>\n",
       "    </tr>\n",
       "    <tr>\n",
       "      <th>192610</th>\n",
       "      <td>-0.0484</td>\n",
       "      <td>-0.0243</td>\n",
       "    </tr>\n",
       "    <tr>\n",
       "      <th>192611</th>\n",
       "      <td>-0.0078</td>\n",
       "      <td>0.0270</td>\n",
       "    </tr>\n",
       "  </tbody>\n",
       "</table>\n",
       "</div>"
      ],
      "text/plain": [
       "        SmallCap  LargeCap\n",
       "192607   -0.0145    0.0329\n",
       "192608    0.0512    0.0370\n",
       "192609    0.0093    0.0067\n",
       "192610   -0.0484   -0.0243\n",
       "192611   -0.0078    0.0270"
      ]
     },
     "execution_count": 136,
     "metadata": {},
     "output_type": "execute_result"
    }
   ],
   "source": [
    "rets.head()"
   ]
  },
  {
   "cell_type": "code",
   "execution_count": 138,
   "id": "b1010833-8470-43fb-a9e7-267bd529e5a8",
   "metadata": {},
   "outputs": [
    {
     "data": {
      "text/plain": [
       "Index([192607, 192608, 192609, 192610, 192611, 192612, 192701, 192702, 192703,\n",
       "       192704,\n",
       "       ...\n",
       "       201803, 201804, 201805, 201806, 201807, 201808, 201809, 201810, 201811,\n",
       "       201812],\n",
       "      dtype='int64', length=1110)"
      ]
     },
     "execution_count": 138,
     "metadata": {},
     "output_type": "execute_result"
    }
   ],
   "source": [
    "rets.index"
   ]
  },
  {
   "cell_type": "code",
   "execution_count": 140,
   "id": "d7eaf6c6-2a01-44d3-8687-054398ec976d",
   "metadata": {},
   "outputs": [
    {
     "data": {
      "text/plain": [
       "DatetimeIndex(['1926-07-01', '1926-08-01', '1926-09-01', '1926-10-01',\n",
       "               '1926-11-01', '1926-12-01', '1927-01-01', '1927-02-01',\n",
       "               '1927-03-01', '1927-04-01',\n",
       "               ...\n",
       "               '2018-03-01', '2018-04-01', '2018-05-01', '2018-06-01',\n",
       "               '2018-07-01', '2018-08-01', '2018-09-01', '2018-10-01',\n",
       "               '2018-11-01', '2018-12-01'],\n",
       "              dtype='datetime64[ns]', length=1110, freq=None)"
      ]
     },
     "execution_count": 140,
     "metadata": {},
     "output_type": "execute_result"
    }
   ],
   "source": [
    "rets.index=pd.to_datetime(rets.index,format='%Y%m')\n",
    "rets.index"
   ]
  },
  {
   "cell_type": "code",
   "execution_count": 142,
   "id": "c757a17c-724d-4b05-832b-8c10a3bfa4cf",
   "metadata": {},
   "outputs": [
    {
     "data": {
      "text/html": [
       "<div>\n",
       "<style scoped>\n",
       "    .dataframe tbody tr th:only-of-type {\n",
       "        vertical-align: middle;\n",
       "    }\n",
       "\n",
       "    .dataframe tbody tr th {\n",
       "        vertical-align: top;\n",
       "    }\n",
       "\n",
       "    .dataframe thead th {\n",
       "        text-align: right;\n",
       "    }\n",
       "</style>\n",
       "<table border=\"1\" class=\"dataframe\">\n",
       "  <thead>\n",
       "    <tr style=\"text-align: right;\">\n",
       "      <th></th>\n",
       "      <th>SmallCap</th>\n",
       "      <th>LargeCap</th>\n",
       "    </tr>\n",
       "  </thead>\n",
       "  <tbody>\n",
       "    <tr>\n",
       "      <th>1926-07-01</th>\n",
       "      <td>-0.0145</td>\n",
       "      <td>0.0329</td>\n",
       "    </tr>\n",
       "    <tr>\n",
       "      <th>1926-08-01</th>\n",
       "      <td>0.0512</td>\n",
       "      <td>0.0370</td>\n",
       "    </tr>\n",
       "    <tr>\n",
       "      <th>1926-09-01</th>\n",
       "      <td>0.0093</td>\n",
       "      <td>0.0067</td>\n",
       "    </tr>\n",
       "    <tr>\n",
       "      <th>1926-10-01</th>\n",
       "      <td>-0.0484</td>\n",
       "      <td>-0.0243</td>\n",
       "    </tr>\n",
       "    <tr>\n",
       "      <th>1926-11-01</th>\n",
       "      <td>-0.0078</td>\n",
       "      <td>0.0270</td>\n",
       "    </tr>\n",
       "  </tbody>\n",
       "</table>\n",
       "</div>"
      ],
      "text/plain": [
       "            SmallCap  LargeCap\n",
       "1926-07-01   -0.0145    0.0329\n",
       "1926-08-01    0.0512    0.0370\n",
       "1926-09-01    0.0093    0.0067\n",
       "1926-10-01   -0.0484   -0.0243\n",
       "1926-11-01   -0.0078    0.0270"
      ]
     },
     "execution_count": 142,
     "metadata": {},
     "output_type": "execute_result"
    }
   ],
   "source": [
    "rets.head()"
   ]
  },
  {
   "cell_type": "code",
   "execution_count": 144,
   "id": "57119148-b1b8-415f-a608-1c40b60c9c75",
   "metadata": {},
   "outputs": [
    {
     "data": {
      "text/plain": [
       "DatetimeIndex(['1926-07-01', '1926-08-01', '1926-09-01', '1926-10-01',\n",
       "               '1926-11-01', '1926-12-01', '1927-01-01', '1927-02-01',\n",
       "               '1927-03-01', '1927-04-01',\n",
       "               ...\n",
       "               '2018-03-01', '2018-04-01', '2018-05-01', '2018-06-01',\n",
       "               '2018-07-01', '2018-08-01', '2018-09-01', '2018-10-01',\n",
       "               '2018-11-01', '2018-12-01'],\n",
       "              dtype='datetime64[ns]', length=1110, freq=None)"
      ]
     },
     "execution_count": 144,
     "metadata": {},
     "output_type": "execute_result"
    }
   ],
   "source": [
    "rets.index"
   ]
  },
  {
   "cell_type": "code",
   "execution_count": 146,
   "id": "2f541569-1752-42bd-8aaa-965b40c6d4ca",
   "metadata": {},
   "outputs": [
    {
     "name": "stdout",
     "output_type": "stream",
     "text": [
      "<class 'pandas.core.frame.DataFrame'>\n",
      "DatetimeIndex: 1110 entries, 1926-07-01 to 2018-12-01\n",
      "Data columns (total 2 columns):\n",
      " #   Column    Non-Null Count  Dtype  \n",
      "---  ------    --------------  -----  \n",
      " 0   SmallCap  1110 non-null   float64\n",
      " 1   LargeCap  1110 non-null   float64\n",
      "dtypes: float64(2)\n",
      "memory usage: 26.0 KB\n"
     ]
    }
   ],
   "source": [
    "rets.info()"
   ]
  },
  {
   "cell_type": "code",
   "execution_count": 4,
   "id": "0385c883-f6f8-417b-8500-13c44de4a4ad",
   "metadata": {},
   "outputs": [
    {
     "ename": "SyntaxError",
     "evalue": "invalid syntax (1134251051.py, line 1)",
     "output_type": "error",
     "traceback": [
      "\u001b[0;36m  Cell \u001b[0;32mIn[4], line 1\u001b[0;36m\u001b[0m\n\u001b[0;31m    rets.['1975']\u001b[0m\n\u001b[0m         ^\u001b[0m\n\u001b[0;31mSyntaxError\u001b[0m\u001b[0;31m:\u001b[0m invalid syntax\n"
     ]
    }
   ],
   "source": [
    "rets.['1975']"
   ]
  },
  {
   "cell_type": "markdown",
   "id": "932fab7c-64e6-4081-8a64-98cd65050053",
   "metadata": {},
   "source": [
    "# compute drawdowns\n",
    "\n",
    "1.compute a wealth index<br>\n",
    "2.compute previous peaks<br>\n",
    "3.compute drawdowns- wich is a wealth value as a percentage of the previous peaks\n"
   ]
  },
  {
   "cell_type": "code",
   "execution_count": 198,
   "id": "a7d81ece-40d7-4681-acd9-018c18ec36dc",
   "metadata": {},
   "outputs": [
    {
     "data": {
      "text/plain": [
       "1926-07-01    1032.900000\n",
       "1926-08-01    1071.117300\n",
       "1926-09-01    1078.293786\n",
       "1926-10-01    1052.091247\n",
       "1926-11-01    1080.497711\n",
       "Name: LargeCap, dtype: float64"
      ]
     },
     "execution_count": 198,
     "metadata": {},
     "output_type": "execute_result"
    }
   ],
   "source": [
    "wealth_index=1000*(1+rets['LargeCap']).cumprod()\n",
    "wealth_index.head()"
   ]
  },
  {
   "cell_type": "code",
   "execution_count": 200,
   "id": "4b68fc81-96af-4682-a163-ae4872f64ab5",
   "metadata": {},
   "outputs": [
    {
     "data": {
      "text/plain": [
       "<Axes: >"
      ]
     },
     "execution_count": 200,
     "metadata": {},
     "output_type": "execute_result"
    },
    {
     "data": {
      "image/png": "iVBORw0KGgoAAAANSUhEUgAAAhYAAAGsCAYAAACB/u5dAAAAOXRFWHRTb2Z0d2FyZQBNYXRwbG90bGliIHZlcnNpb24zLjguNCwgaHR0cHM6Ly9tYXRwbG90bGliLm9yZy8fJSN1AAAACXBIWXMAAA9hAAAPYQGoP6dpAABBlUlEQVR4nO3deXxb1Z3//7ckW7It705ix7GzEJZANgIECGvYUlJ22kIpzVDaMsCEpc10hl/6Y1jamYZSoNAyZWhLYaBlacpA6UIgLAkNBZqVhASyk812Fu+rbEnn+4esa8mWE8uSLcl+PR8PPyJdXd17TuxEb3/uuefYjDFGAAAAcWBPdAMAAMDQQbAAAABxQ7AAAABxQ7AAAABxQ7AAAABxQ7AAAABxQ7AAAABxQ7AAAABxQ7AAAABxQ7AAAABxk7Bg8d577+myyy5TaWmpbDabXn311aiPYYzRQw89pGOPPVYul0vl5eX60Y9+FP/GAgCAPklL1Imbm5s1ffp03XjjjfrSl77Ur2PceeedevPNN/XQQw9p6tSpqq+v16FDh+LcUgAA0Fe2ZFiEzGaz6ZVXXtGVV15pbWtvb9fdd9+t3/3ud6qrq9OUKVP04x//WLNnz5Ykffrpp5o2bZo++eQTHXfccYlpOAAACJO0YyxuvPFGvf/++3rxxRe1fv16feUrX9HFF1+srVu3SpL+9Kc/6aijjtKf//xnTZgwQePHj9e3v/1t1dTUJLjlAAAMX0kZLLZv364XXnhBixcv1tlnn62JEyfqe9/7ns466yw9/fTTkqQdO3Zo165dWrx4sZ599lk988wzWr16tb785S8nuPUAAAxfCRtjcThr1qyRMUbHHnts2HaPx6OioiJJkt/vl8fj0bPPPmvt99RTT+nkk0/W5s2buTwCAEACJGWw8Pv9cjgcWr16tRwOR9hr2dnZkqTRo0crLS0tLHwcf/zxkqTdu3cTLAAASICkDBYzZsyQz+fTgQMHdPbZZ0fc58wzz5TX69X27ds1ceJESdKWLVskSePGjRu0tgIAgC4JuyukqalJ27ZtkxQIEo888ojOO+88FRYWauzYsfr617+u999/Xw8//LBmzJihQ4cO6Z133tHUqVP1xS9+UX6/XzNnzlR2drYeffRR+f1+zZ8/X7m5uXrzzTcT0SUAAIa9hAWLZcuW6bzzzuux/YYbbtAzzzyjjo4O/ed//qeeffZZ7du3T0VFRZo1a5buv/9+TZ06VZJUUVGh22+/XW+++abcbrfmzp2rhx9+WIWFhYPdHQAAoCSZxwIAAAwNSXm7KQAASE0ECwAAEDeDfleI3+9XRUWFcnJyZLPZBvv0AACgH4wxamxsVGlpqez23usSgx4sKioqVF5ePtinBQAAcbBnzx6VlZX1+vqgB4ucnBxJgYbl5uYO9ukBAEA/NDQ0qLy83Poc782gB4vg5Y/c3FyCBQAAKeZIwxgYvAkAAOKGYAEAAOKGYAEAAOKGYAEAAOKGYAEAAOKGYAEAAOKGYAEAAOKGYAEAAOKGYAEAAOKGYAEAAOKGYAEAAOKGYAEAAOKGYAEAAHr1yb56/fpvO+T1+fu0/6CvbgoAAFLHpT9fIUly2yb2aX8qFgAAICK/31iPK+vb+vQeggUAAIioqqErTJTkZvTpPQQLAAAQ0Z6aFuuxkTnMnl0IFgAAIKKGNq/1uMNHsAAAADFobOuwHnv9BAsAABCDxpCKhc/ft9tNCRYAACCi0IpFu5dgAQAAYhBaseBSCAAAiEno4E0vgzcBAEAswgZvEiwAAEC02jp8+vXfdmj7wSa1tPus7V4GbwIAgGg9uXyH/vMvn+qCh5erpT1kHovBGGOxaNEi2Ww2fec734nlMAAAIEms2lVjPW7t6KpS/G3LwT69v9/BYuXKlfrlL3+padOm9fcQAAAgyTjsNutxW8ilkO0Hm/v0/n4Fi6amJl1//fX61a9+pYKCgv4cAgAAJCGHrStYtHb4DrNnZP0KFvPnz9cll1yiCy+88Ij7ejweNTQ0hH0BAIDkZLfHFizSon3Diy++qDVr1mjlypV92n/RokW6//77o24YAAAYfGEVi/YBrljs2bNHd955p377298qI6Nv67IvXLhQ9fX11teePXuibiQAABgcjsGsWKxevVoHDhzQySefbG3z+Xx677339Pjjj8vj8cjhcIS9x+VyyeVyRd0wAAAw+EIvhfj6eItpqKiCxQUXXKANGzaEbbvxxhs1adIk3XXXXT1CBQAASC0O25H3OZyogkVOTo6mTJkSts3tdquoqKjHdgAAkHpCKxb9en+c2gEAAIYAm2ILFlHfFdLdsmXLYj0EAABIEr5ua4KcflShPtxR08vePVGxAAAAlnZfeLCYMbZAZ0ws6vP7CRYAAMDS7g2/E6QkNyPsFtQjIVgAAABL94pFodupNIIFAADojw5veLAocjvlsPc9LhAsAACApaN7xSKbigUAAOinSJdCHFHMmkWwAAAAlqY2b9jzEW4XFQsAABA9r8+vPbUt1vMR2S7Z7bao7gqJeYIsAAAwNFTUtanDF7jddMFFx+qqGWMkKaqKBcECAABIkvZ2VismjnTrjguOsbYzjwUAAIhaoycwviIvMz1sO8ECAABEraU9ECzcrvALGmnMYwEAAKLV7PFJkrKcjrDtVCwAAEDUrIqFs3vFgmABAACiZFUsXFQsAABAjHofY0GwAAAAUWrqrFh0vxTCImQAACBqwYpF98GbaawVAgAAotV1V0j3igXBAgAARKm2pV2SVJAVPkEWYywAAEDUDjZ6JEkjc1xh2y88vlg/u25Gn47BWiEAAEBS78Fi/Ai3Cp2j+nQMKhYAAEDNHq9aOwJjLEZku46wd+8IFgAAwKpWZDkdPeaxiAbBAgAAqL61Q5KU321l02gRLAAAgBrbAnNY5BIsAABArBrbAhWLnIzY7usgWAAAAKtikZNBxQIAAMSogYoFAACIlwarYkGwAAAAMQqOscjlUggAAIjVp5UNkqSSvIyYjkOwAABgmGvr8Gnl57WSpNnH9m3q7t4QLAAAGOYONnrk8xu50uwqL8yM6VgECwAAhrnq5sBy6UVup2y2vi+RHgnBAgCAYa6mObBOSFEMi48FESwAABjmDjV1ViyynTEfi2ABAMAwV9N5KaTQTbAAAAAxqqhrlSSV5MZ2q6lEsAAAYNjbU9MiSSovzIr5WAQLAACGuT21gYpFWUFst5pKBAsAAIY1Y4z21nZWLAqoWAAAgBgcbPKorcMvm00qzadiAQAAYrCnJnAZZHRuhpxpsccCggUAAMNY8DJIWRwGbkoECwAAhrW9nQM34zG+QiJYAAAwrHXdahr7+AqJYAEAwLDV4fPrxZV7JFGxAAAAMfpoR431+LiSnLgck2ABAMAwVdfabj2eMiYvLsckWAAAMEy1eHySpPMnjYrbMQkWAAAMU83tXklSltMRt2MSLAAAGKZa2gMVC7czLW7HJFgAADBMtXRWLDKpWAAAgFg1d46xcLsIFgAAIEYt1hgLLoUAAIAYNXeOsWDwJgAAiFmLJ1CxYPAmAACIWUNbIFhkZxAsAABAjGqbAzNvFrqdcTsmwQIAgGGqujNYFBEsAABALDp8ftW3dkiiYgEAAGJU1xIIFTablJ9FsAAAADGobvZIkgqynHLYbXE7LsECAIBhaF9tqyRpdF5GXI9LsAAAYBjaU9MiSSovyIrrcQkWAAAMQ3s7KxblhZlxPS7BAgCAYehgU2CMRXEul0IAAECMWqx1QuI366YUZbB44oknNG3aNOXm5io3N1ezZs3S66+/HtcGAQCAgdfaHv8l06Uog0VZWZkeeOABrVq1SqtWrdL555+vK664Qhs3boxrowAAwMBq7lwyPTM9vsEiqvrHZZddFvb8v/7rv/TEE0/oww8/1OTJk+PaMAAAMHBaB+hSSL+P5vP5tHjxYjU3N2vWrFm97ufxeOTxeKznDQ0N/T0lAACIg9rmdu042CxJynQm8FKIJG3YsEHZ2dlyuVy65ZZb9Morr+iEE07odf9FixYpLy/P+iovL4+pwQAAoP/qWzv0xZ/9Te0+v6QEj7GQpOOOO07r1q3Thx9+qFtvvVU33HCDNm3a1Ov+CxcuVH19vfW1Z8+emBoMAAD67/UNlaqsb7OeZ6Un+FKI0+nU0UcfLUk65ZRTtHLlSj322GN68sknI+7vcrnkcrliayUAAIiL4FLpQQm/FNKdMSZsDAUAAEheTR5v2PN4XwqJqmLx/e9/X3PnzlV5ebkaGxv14osvatmyZVqyZElcGwUAAAZGU1t4sMhIS2Cw2L9/v+bNm6fKykrl5eVp2rRpWrJkiS666KK4NgoAAMRmX12r/m3xxxqZ49Kiq6dat5UGKxbXnVquW889WvY4LpkuRRksnnrqqbieHAAADIyLHlluTdt9wuhc3XzuRElSY2fFYlpZvsYWxXdlU4m1QgAAGHJe+7jCChVS4BZTSaqqb9Nbn+6XJGW74ns3SBDBAgCAIcTr8+uOF9aGbcvLTJckPffh59a2rDjfDRJEsAAAYAhp7fD12Hag0aPPqhrU7vVb25xpAxMBBqYOAgAAEqKtw99j21Mrduq5D3dp5vgCSZLdJp0xccSAnJ+KBQAAQ4jH27NiIUntXr/e31YtSXrqGzPliPPdIEEECwAAhoj61g5985mV1vOpY/Ii7jehyD1gbSBYAAAwRLyxsUpb9jdZz0/pvPQRKs1uU1lB5oC1gWABAMAQUd0Uvg6IK8KsmsW5GUpzDNzHP8ECAIAhorale7Do+TGfkT6wH/0ECwAAhogeFYsIISIjfWDmrwgiWAAAMET0rFj0DBEECwAA0CfVTZ6w55EuhUTaFk8ECwAAhoAnl2/Xx3vrw7ZFHmNBxQIAABzBotc/67HNFSFEULEAAAD9ku0a/DEWrBUCAECKa/Z4w57PPm6k/mX20bJFmLV7oG83JVgAAJDivrf447Dnz9x4qiRpc1Vjj30j3SkST1wKAQAgxb3+SZX1+M+3n2U9zsnoWT+INLdFPBEsAAAYQkLXAYkULDKoWAAAgL5yu7rChNtJxQIAAMQgPWSBMbu95+jN3Iz0AT0/wQIAgBTW1uGzHl8ybXSP148ZlW09znGl6ZKpPfeJJ+4KAQAghR1sDEzj7XTY9fh1M3q8/tc7z1azxytjJLvNprysga1YECwAAEhhhzrXBxmR7ZQtwsQV6Q678rOcg9YeLoUAAJDCgkulj8hxJbglAQQLAABSWFfFgmABAABitKe2RVLgUkgyIFgAAJDClnTOunnahKIEtySAYAEAQIqqrG/V9oPNstukiyYXJ7o5kggWAACkrNW7aiVJk0vzBnziq74iWAAAkKL21bZKksYWZiW4JV0IFgAApKA9NS1a9PpnkiS3a2AXFosGwQIAgBT01Iqd1uPQhccSjWABAECKi7SKaaIQLAAASEHGGOsxFQsAABATE/LYkUSf5knUFAAA0Fcdvq5o4fWbw+w5uAgWAACkoIa2Duuxn2ABAABiUd/SFSwYYwEAAGJS39oVLL46c2wCWxKOYAEAQAoKBouXb52lTCcTZAEAgBgEg0VeZnKsERJEsAAAIMX4/cYavJlLsAAAALFobPMqOD8WFQsAABCT4GWQzHSHXGnJM75CIlgAAJByknV8hUSwAAAg5dS1tksiWAAAgDiwKhZZBAsAABAjLoUAAIC4IVgAAIC4Ca4Tkk+wAAAAsaJiAQAA4obBmwAAIC4+3lOn1z+pkkTFAgAAxOiW3662HhMsAABATKqb263HBAsAABCT3IyuMEGwAAAAMclydi06RrAAAAAxCQ0TuQQLAAAQC1da4KP7n2aNU7oj+T7Gk69FAACgV7trWiRJFxxfnOCWREawAAAgRazYekgHGj2SJHfIWItkQrAAACBF/PydrdbjLGdaAlvSO4IFAAApYkS2y3rsTLMlsCW9I1gAAJAi2n1+6/FRI7IT2JLeESwAAEgRwfEVv5x3sux2KhYAACAG+2oDd4SMzstMcEt6R7AAACAF1DS361BTYJ2QiaPcCW5N7wgWAACkgG0HmiRJZQWZSXtHiBRlsFi0aJFmzpypnJwcjRo1SldeeaU2b948UG0DAACd9je0SZLG5CfvZRApymCxfPlyzZ8/Xx9++KGWLl0qr9erOXPmqLm5eaDaBwAAJDW2eSUl5/ogoaKqpSxZsiTs+dNPP61Ro0Zp9erVOuecc+LaMAAA0KWhrUNS+LLpySimizT19fWSpMLCwl738Xg88ng81vOGhoZYTgkAwLDU0NoZLDKTd3yFFMPgTWOMFixYoLPOOktTpkzpdb9FixYpLy/P+iovL+/vKQEAGLZSpWLR72Bx2223af369XrhhRcOu9/ChQtVX19vfe3Zs6e/pwQAYNhqaB2CYyyCbr/9dr322mt67733VFZWdth9XS6XXC7XYfcBAACHF6xY5GQk96WQqFpnjNHtt9+uV155RcuWLdOECRMGql0AAKCTMUZb9wfmsRiVk9y/rEcVLObPn6/nn39ef/zjH5WTk6OqqipJUl5enjIzk/u+WgAAUtWOQ83aV9cqV5pdp00oSnRzDiuqMRZPPPGE6uvrNXv2bI0ePdr6eumllwaqfQAADHsHOxcfG1OQqUynI8GtObyoL4UAAIDB1ewJDNx0J/FU3kGsFQIAQJJrCgYLV3JXKySCBQAASa/Z45MkZbuoWAAAgBi1tAcrFgQLAAAQo65LIQQLAAAQo+DgTS6FAACAmDV1jrHgrhAAABCz6qbAPBbJPp23RLAAACCpGWO0aletJGlaWV6CW3NkBAsAAJLYBQ8vV01zu2w2aVpZfqKbc0TJX1MBAGCY8fmNqps8cqU7tONQs7XdmZb89QCCBQAASeanS7fov5dt023nHW1te/BL0xLYor4jWAAAkGQef3ebJOnn7wT+PGqkW18+uSyRTeqz5K+pAAAwzJ0wOlc2my3RzegTggUAAEnE7++5knh5YVYCWtI/BAsAAKJU3eTRLc+t1vItB+N/7Ob2HtvKCjLjfp6BQrAAACBK9/9pk5ZsrNINv/lH3I9dEyFYlBdQsQAAYMhat6curscLrl4qSXUtPYPFlDHJPzFWEMECAIAo1Ub48O+v5z/arcn3vqE/r6+QJNW1doS9PqkkR4VuZ9zON9AIFgAA9NEn++r1r7//WI1tXRUGY3oOtozGD/+8ScZItz2/VpJU3xIeLHIz0mM6/mBjHgsAAProxmdW6mCjJ2xbk8ernBg+/EvyMrSzc3bNupZ21XerWLhdjn4fOxGoWAAA0EfdQ4UkVTfFdlmk3eu3Hq/dU6e61vDjZblSqwZAsAAAIAZbDzT1+72rd9VqX12r9Xzb/ibVdbsUct5xo/p9/ERIrRgEAECS2VhRr4tOKO7Xe9/cWBX2fHdNizV488Yzx2t6Wb6uOLE05jYOJioWAAD0gd9vZI8wq/bumpZ+H7OqoU2SNK4oME/FrpoWa/DmtLI8XTljTMpM5R1EsAAAoA/qWzsUYbZtNXQbbBmNqvpAsDhjYpEkqaKu1RpjkZ+ZOreYhiJYAACSVn1rhzZXNSa6GZKkQ03hAzeznIG7NSrq2vTNZ1bquQ8+j/qYwYrFccU5kgIhJTjGIi8rtW4zDSJYAACS1mU/X6EvPPqePo7zTJf9cSjk7o8vTC7WQ1+ZLknaVNmgdz47oP/448aojufzG1V2ViyOLQkEiwONHu2tDQzmzM8kWAAAEFfB8QuvfVyR4JZ0VSxOnVCoJ+edogkj3DEdr6KuVe1ev5wOu1WxCJVKs22GIlgAAJJedVPP+SMG08aKet3+QmBmzBHZgQ/8gqzYPvg/rw5MijW2KEt53aoTV80Yo/wYj58oBAsAQNKLtJT4YLrvta7LHKNyMiRJ+TGOgQhe8igvyFSawy63s2uGzX+/+LiYjp1IBAsAQFIKXYNjf+cgx0QJnbTq1AmFkqSMdIdG5rjC9otm3ZDg3STByoc7ZIbNjLTUmsY7FMECAJCUOnxdH9Jb9jfJH+lez0Hg8xtrdsxROS6dP6lrJszu4yxC23wkwYXMcjsvg7jSuz6SQx+nmtRtOQBgSGvt8IU9r6hv7WXPgbX1QKNa2n1yOx36YOEFykjvqiaU5WeG7dvm9XV/e68a2gIVi5yMQKUi3d71kex0pO7Hc+q2HAAwZHX4/PrOi2vDtrW29/1DO55WbD0kSTppXIEc3abenDQ6/G6Oto4ogkXnpZDgsuihx04jWAAAEB/GGB3z/7+udzcfDNvuCVkFdDAt3xJoR+glkKDrTh2ro0Z2XQ7xdPS9jV2XQgIVi+6hJVURLAAASaPJ49X9f9oU8bVEBYudhwK3hU4Zk9fjtZyMdL294FzrDpG+ViyMMXr7swOSIlcsUhnBAgCQNB5c8pme+fvnEV/zRDF+IV46fH5VdA7cHFuYFXEfm81m3cXR1seKxapdtdbj4ERYaQQLAABiZ4zRwv/boEeWbtFbm/b3ut/XfvWR1g3y1N6VdW3yG8mVZtfIbFev+2V03sVxpMGbre0+tXX4tLu6a0XUmeMDt69SsQAAIA4272/UC//YrZ+9vVVNHu9h953/uzWD1KqA4JTiZQWZsh/mgz94p8jft1X3uo/fb3TFf6/QWT9+V3tqA8e9asYY67gECwAA4mDV512XBRrauoLFhBFuPXLNdJXkZljbornrIh6CwaK3yyBBRZ3TfP/0rS3WUujd/ePzGm3Z36RDTR6r8hKcHlwiWAAAEDNjjO5+9ZOIr7V1+HT1SWVht3S60gbnY6uhrUM//PMmvf1p4NLMkYLFWUePtB73Nt/GxooG63EwsIwIubySZh8aH8lDoxcAgJTUfJi5KVo6XwudLCp0cqqBdM+rn+ipFTutOzfKjxAsbjxzvPW4o5e7V+pbutY72dMZLIpCgsXVJ42RJE0q6bnSaSpJO/IuAAAMjMa2jl5fC172cIWECecgVSz++klV2PMTSnMPu39GukMnjM7VpsoGtfUSLGpD1hsJTv2dHbI+yFUzxqisIKvHpFuphmABAEiYhtbeB2sG560IrVi4BqFicaCxTe3dwsHk0p5zWHRn3RnSyziQutaeISo0WNhsNmuBs1RGsAAAJEzDYSoWQc60rkGNGYNQsXj8nW3W45njC3TptFLlZR55iXSXNZdFz2Cxv6FNf/q4osf2LFfqrmLaG4IFACBhgpdCinNd2t/gibhPaFVjMMZYvNc5hfcvrj9JX5w6us/vC1YsIs0QetV/vx/xPW7n0PsYZvAmACBhgqFh4sjsXvfZeqDReuw3A7t0ervXrz21gbs6ThpbENV7g6HH061i4fMbVfRyC2qWc+hVLAgWAICE2dG5DkfopYbg1NY//tJUSeG3enYf+xBvq3bVyOc3cjsdKs7tfabNSILBovu03jsPNfX6Hrdr6FUshl6PAAAp4ZN99frZ21slSaNyXLryxFK9uq5Cf7r9LI0tzLI+dO+7fLLW7q5TdXO72n0DGyxe+MceSdIZR4+QzRbdhFXBOTa6j7E42NgeaXdJVCwAAIibJ5Zttx4fNTJbj1xzotb+x0U6fnRu2G/yZQVZevia6ZIGrmJR39qhHy/5zBpg+ZWTy6I+hnUppFsb6yPcDRI0WBN+Daah1yMAQEpIc3RVBArdTtntNhW4nRH3Dd5xMVBLpz/3wedhQWdckTvqY7h6ud20ISRYLJw7Key1aKsiqYBgAQBIiOBy5JJ0wfGjDrtvcGKsgapYbD0QPg6ivDAz6mNYS6d3W+H0gx2BhcmuOLFUJ5bnW9vPmFgU9TlSAcECAJAQBxoDt5cuvmWWso5w22XwksHumhZ93jngM1bvbj6gCx5eptW7atQaMrX45dNLj9ieiG20KhZd4aeupV2vrN0nKTCeIj+rqyLz6LUn9rPlyY3BmwCAhKhuCgxqLOrl8keo0LEIsx9apk0/+EK/PvxD3fj0SknSdb/8yFpZ9JfzTtacySX9Ol5whtCOkAGm2w92haA9Na3Kyehqc07GkSfdSkUECwDAoGvr8KnJE5jDInQhrt50nxjro501Ou+4w18+6at2n1/qLFiU5kd/CSTIFeFyTXCxMUk6tjhHpfmZ+tZZE+RKsytzCN4RIhEsAAAJUNMcqFakO2zKzTjyR1H3D+F9tZGXJo+Fw27T5CMsNnY46REqFrtDgsUdFxwtSfqPS0/o9zlSAWMsAACDrusyiKtPd0Z0n++hsj62YOH395zBc/7siTHdpREcYBp658qu6kCw+N6cY8PGVwxlBAsAwKA71BwYuFnYh/EVUtcdF0HbD8Q2gPNQU891SdIdsX0kRrpzZXdNoJ1j+3H7aqoiWAAABp1VscjuW7Cw28MrCUs/3R8xHByOMUY+v9GW/Y3aVNkgSSrNy9A3zhivgqx0fakfk2KFOtylkNBpyYc6xlgAAAbN37cd0g//8qkKsgJ3RIzow8DNSHx+o13VLX1+f7vXr0t+9rce81WMzs/UvZedoPsun9yvdoSyKhadwcLnN9aKrWNiGBSaaggWAIBBsWLrIX39qY/CtvXlVtPe1LW0q7rJoztfXKdrZ5brsumlve67YV9dj1AhSaPzMuI2+6V1u6k3MH4jdMbN/KyheWtpJFwKAQAMijtfXNtjW19uNe1NTXO7Hl66RSu2HdLtL/Q8dqh3PzsYcfs5x47s9/m7616xqOsMFtmutJjHb6QSKhYAgEHRfZyEJOuSSH88snSLKuvb+rTv4tV7Im6/esaYfp+/u2B4CA7erGsJjCMJXRJ+OBg+EQoAkFCh02YH5cbwodvXUNHW4bPGOrz53XM0qSRHknTh8cVKi2MlIXgpJFixONQ0PIMFFQsAwIDzeLtm2rTbpOA0Ejl9mBwraOqYPG3YV69xRVnW/BChOnz+iJccDnSGCmeaXceMytZT35iptbtrNTtOM3cGOdNsVjsk6aZnV0mSqhr6FoCGCoIFAGDABWfaTLPbVJTttCoI0ayX8cI/n67PKhu0fm+9fvDnTT1er21p16icjB7bDzQGPthH5QQm4xqTnzkgd2k4HYG5NrqvwBq8JDJccCkEADDggvNWFLidygxZ9yOaikW2K02njC9UtivyeyrrIlcGDnauojoqp/8DRfsiPaRiYUzXzJ6PfXXGgJ432RAsAAADLlixKHI7wy5XRBMsgty9BIs3NlZF3P7x3npJUlnBwE5S1bW6qVFrR9d4kvMmxfeSS7IjWAAABpwVLLKd8oWs05Hbj6XDs1xdFY+zjxmh+y4LLOoVadyFJL3z2X5J0hf6uRx6X6WHLO0erNDYbZJ7iK5i2puog8V7772nyy67TKWlpbLZbHr11VcHoFkAgKGkujNYFLpdYYt0udKi//029FJIbma6sjvDSXBwaHdVnXePHFeSHfW5ouEMqcQE+5vtSovbBFypIurvaHNzs6ZPn67HH398INoDABiCqjvX9ShyO9XS3hUA+vOhG7rSaW5GmhU0IgULj9enhrbA9v5OH95XToddwe4c6LwTJJrBqUNF1Be35s6dq7lz5w5EWwAAQ1SNVbFwqtnTcz6LaIRVLDLSu4JFW89g8erafWH7DiS73aa8zHTVtXRoT21gWff+jCFJdQPeY4/HI4+nawW6hoaGgT4lACCJGGP0aedqokXZTmsCqf7KcnZ9dI0pyFR2Ru8Vi7te3mA9jjTzZ7wVZDkDwaJzVdOBDjPJaMAHby5atEh5eXnWV3l5+UCfEgCQRDZWNOjjvfVyOuw655jY1+YIrVicPK6g10shzb2MuRhIwcXG1u2pkzQ8KxYDHiwWLlyo+vp662vPnsjztQMAhh6vz68V2w5Jks45doTKC2O/5TPT6dCtsyfq22dN0Amjc61g0ezxhs0f8dHOauvxb791Wszn7YvgrJvDOVgMeI9dLpdcroEdMAMASD6f7KvXpT9fYT2fOb5QkvTwV6brrpfX6+fX9X/iqLsunmQ9Dl4K8fqNPF6/Mjon4Hp5TWB8xQ2zxumsY0b0+1zR+GRf+OX+4Th4k3ksAAAD4r/+8mnY8wkj3JKkL51cpo0/+ILmTh0dl/NkpTusuzEa2gJLlde3duivGyolSdfOHBuX8/TFgouODXs+HCsWUQeLpqYmrVu3TuvWrZMk7dy5U+vWrdPu3bvj3TYAQAqzd/uEGd8ZLCTJlRa/SaPsdpvyO1cQrWsJBIsDDW0yJnA76gmluXE715H88zlHhT2nYtEHq1at0owZMzRjRqCEtWDBAs2YMUP33HNP3BsHAEhdoWuCSNLYOIyv6E1BllNS122t1dZMn4N7KT4j3aHpZXnW8+FYsYi6x7Nnzw4bHAMAQCTOkFk1vzfnWGvsw0AocDulQ8367Ye79Ou/7dBFJxRLCsybMdhCJ+IiWAAAECehE2F948wJA3quYMXiz+sD4yo+2lEjKTHBIi+z6/IH81gAABAndS2ByxGPf21Gr0udx0tDa0fY88bOOSyKEhAsQqsUw7FiQbAAAAyIA42BWZfH5GcO+LnOPDry7aQFCQgW2WHBgooFAAAxa+vwqapzIa6BHLQZ9C/nTYy4PREVi2xXV5igYgEAQBzsrW2RMYHptwdjnEO6I/LHWSLGWKQ7utYkIVgAABAHe2oCq3uWF2b1a2n0eElEsAjldhIsAACI2f7OyyCj8zIS2o4id2KXlBiMFVWTDcECABB3+xsCAzeLcxP7wT4yZ/DPH7z1dbgafjUaAMCA298YqFiMyhn8ioXDbtPJ4wp0xsQilSSgYnL5iaVase2QTj+qcNDPnQwIFgCAuFq+5aCe/yiwflRx7uB9sN932Ql68I3Neu5bp+nkcQWDdt7u0h12/fTaExN2/kQjWAAA4sbr8+uG3/zDej6mYODnsAj6xpkTNG/WeDmG4biGZMIYCwBA3Ly7+WDY86NHZQ/q+QkViUewAADEhTFGNz27Kmzb6EG8FILkQLAAAMRFQ6s37PkPrpg8LG+3HO4YYwEAiIvgFN6S9MJNp2vWxKIEtgaJQsUCABAXwWAxqSSHUDGMESwAAHGxt7ZF0uDeYorkQ7AAAMTFW5v2S5JOLM9PbEOQUAQLAEDMjDFavatWkjRncnGCW4NEIlgAAGLy/rZDOu+hZWpoC9wVMnHk4M5dgeTCXSEAgH7z+vy644W1qm5ulySV5GYoI92R4FYhkahYAAD67cn3dlihQpIynYSK4Y5gAQDol7W7a/XI0i1h2645pTxBrUGy4FIIAKBf/rB6r3x+owuPH6W7Lp6kD3dU6/rTxiW6WUgwggUAIGqNbR16Y2Pg9tLrTh2rY4pzdExxToJbhWTApRAAQNTe2Lhfh5o8GpOfqTOPHpHo5iCJECwAAFExxuieP34iSZo7pYS7QBCGYAEAiMpHO2vU0u6TJJ04Nj+xjUHSIVgAAKKytHPqbkn6wuSSBLYEyYhgAQDos6r6Nj33wS5J0oNfnqZ0Bx8jCMdPBACgz/6yoVLtPr8mleTo6hljEt0cJCGCBQCgT/x+o9+s2ClJuv60sUqjWoEI+KkAAPTJZ1WN2lfXqiynQ19hhk30gmABAOiTtz4NDNo8ZXwht5iiVwQLAMARtXX49PT7gcsgV80oTXBrkMyY0hsAEKaqvk1ZLodyM9K1p6ZFHT6/Vn1eq9qWDo3Jz9Tl0xm0id4RLAAAkqQOn19/WL1Xd7/6iY4rztFLN5+usx98N2yfr58+Tg67LUEtRCogWAAA9FlVg7742N/kN4HnmyobNPW+N3vsd+1MBm3i8AgWADCMbayo14KXPtbm/Y1H3Pe7Fx6rQrdzEFqFVEawAIBh6h87azT/+TU62Oixtj38lelypdt12/NrrW0r7jpPXp/R+BHuRDQTKYZgAQDD0Jrdtfrarz6Ut/Pax/iiLP3giik659iRMsbI91WjSSW5mjDCLWcaNxCi7wgWADCM1LW0a/7za/T+tmpJ0mkTCvWz62ZoVI5LNltgUKbNZtMVJ3LnB/qHYAEAQ1xVfZu+9MTfta+uNWy7K82uB788TcW5GQlqGYYi6lsAMIR5fX79dUNlj1AhSS/feobGFTFuAvFFxQIAhiC/3+jPGyq18OX1am73WdtPnVCor84s1+XTS1lEDAOCYAEAQ4zfb3TtLz/Qys9rw7bfc+kJ+uZZExLUKgwXxFUAGGIeXrq5R6iQpPMnjUpAazDcULEAgBT30Y5qvb/tkL4wpUQTR2brf/++y3rt9KMK9cyNp6rD51dORnoCW4nhgmABAClmy/5G/WV9pV5dt09Tx+Rpza5aVdS36WfvbNOiq6eqyeNVaV6G3v//zrduIWWZcwwWggUApJCt+xt16c9WqN3nlyTtqm4Je/37r2yQJM2dOtoKFcBgYowFAKSQn7+zzQoVkRgj2W3Sl08uG8RWAV2oWABAili3p06vfVwhSbrvshN0/OhcPfb2VrV2+DRzfKF++d4OSYFBmsePzk1kUzGMESwAIAms3V2rX/1th7555gSdMr6wx+t7a1v073/42Hp+ybRSjcxx6fmjiiRJ7V6/3ttyUFv2N+r608cNWruB7ggWAJBg7V6/5v9ujSrq2/TB9mqtvWdO2OtNHq/O/cky+ToXDHtrwTkameMK28eZZtdf7zhb7T4/AzWRUAQLAEigj3ZU697XNqqivk2SVNvSodZ2nzKdDlU3ebRs80H96+KuSsWNZ47X0aNyIh7Lbrcpw06oQGIRLAAgQd7+dL++9b+remy//YW12lXdrK0HmsK233HBMVpw0bGD1TygXwgWADDIaprb5fX59Ytl261tV55YqvV767XjULPe+nR/2P7ZrjQ9f9NpmlaWP8gtBaJHsACAQXKgoU3f/f06vb+tOmz78n+brXFFbn3rmZXacajZ2n7+pFGad/o4nTSuQHmZzJqJ1ECwAIBBsONgk85/eHmP7WPyMzW2MEuSNGtikd7+7IAkadXdF2pEtqvH/kCyI1gAwADz+43u+ePGHttPGJ2rR796ojVD5nWnjtX6vfU6+5gRhAqkLIIFAAywf395vVZsOyRJev7bp+n0o4q07WCTjhmVHTbtttuVpp9dNyNRzQTigmABAAPg3c0H9OPXP9NnVY3WtrsvOV5nHD1CknRsceRbRoFUR7AAgDgxxmhTZYP+9fcfhwUKSbp19kR9++yjEtQyYPAQLACgj/bVter/Vu9VZUObstIdavJ4lZ/lVJHbqSUbq7Rmd62M6dp/yphc3TBrvNq8fn3t1LGJazgwiAgWAHAEDW0d+uO6Cv349c/U5PEecf/jinP0xNdP0oQRbpYux7BDsAAwLNW3dOjDnYH5JNo6fJKk6WX52nGoSSeWF6jQ7ZQkvbx6r+5+9RO1du4jSSeW52t8UZbys5zaWFGvlZ/XypVm14UnFOueS0/QiGyXHHYCBYYnggWAYWX93jr99sNdeu3jCrV1+CPuk5Fu11EjsrWvrlX1rR2SpOJcl249d6K+dto4OdPsYfv7/UY2m6hOACJYAIgjr8+vz6ubVeR2qaDzN35/54qc9ih+g2/r8KnZ41VlfZs8Xp883sCKnceX5MpvjDxev3Iy0pTusMsYo4r6Nm3d36gDjR6NL3Krsr5V7d5AW1ZsPaS9ta2SpOrm9h7nyslI0/gitxraOrSruqXz/H5tqmyw9plWlqfFt8ySKy3yAl/R9A0Y6voVLH7xi1/oJz/5iSorKzV58mQ9+uijOvvss+PdNgBHYDpHCob+puz3Gx1q9qiupUMOu031rR1qaO3QiGyXDjV5dKDRo6Y2r5o8XrW0++R2OtTS4dOEIrfsdpvG5Gcq25Wm8sJM5Wc55fMbVda3ald1iz6vbtaBBo+MJIfNpl3VzaptaVdDm1cHGz3a39AmjzdQBSgryFRGukOfH2pWTkaaThpboFG5Lp1Ynq8Lji/WiGyXapvb9ddPKvXnjyvV4fPrmOJsrdh2SHtqWvvU/yynQyW5GWHTYB+JzSZ9ccpoXTJttGYfN1JZzjTr7+3DndU6viRX2w42ad3uOjW3e5XtStM3z5xAeAD6yGZM6BjmI3vppZc0b948/eIXv9CZZ56pJ598Ur/+9a+1adMmjR175FHPDQ0NysvLU319vXJzc/vdcCBR/H4jnzHyG6M0u10Ou03GGBkT+NBqaPOqorOE3truU31rh5o8gQ+oUbkunTyuQMZI+xvadKjJo5rmDtU2t6u+tUPtPr9a232qaWlXbXO7alva1ezxqa3Dp9aOwJ8Z6Q75/EZNHq+aPV6l2e0qyctQSV6GZKQtBxpV19IRcz+daXYdNcKtHQeb1e6LfMkgksx0R9h4hFhkOR0qyHLK4/XpUFPPakOokTkuOR121bW0qzQ/U3mZ6RqV69Lk0jxJ0szxhaqsb9VJYwtU3jmFNoC+6+vnd9TB4rTTTtNJJ52kJ554wtp2/PHH68orr9SiRYvi1jAMX8EPbp8/8NWd128C5fEOvzxen9o6/PJ4/fJ0BErmXdu6/vR0+NVmvccvu01ypQfK2tbvoTbJ6bDLZrOp2eNVY1tH52/73sCfnc+bPF7rlsJ0R+DdHb7ABlea3fqNPZFsnX1xptmVl5mubFea9ta2KiPdoSljcpWTEdiWZg/0tcNvtKWqUelpNlXUtampzRsWJtIdNpUXZml8kVtFbqd8xqjd61dZQZaOGuFWbmaa3K40leZnanyRW83tXn2yr161zR0qznVpx6FmtXX4VFnfpuWbD4ZdZphUkqNLpo5Weppd+xvadGxxjk4ZV6BxRW6l2W1WpcAYo0aPV63tPhW5nWryeLX9YLN21zTr1AlFGpOfae3HWAcg/gYkWLS3tysrK0uLFy/WVVddZW2/8847tW7dOi1f3nOBnd4adtszK+TKyrb+gzayHoT+YZV6u55Hfl0KlIPtNslus3V+dT6222SzBd8b+M3SmMA5A392PZf13ISdM2xb6HsjHCcoeH5byJ/B//BCjx88nnWu7s/D+h5pe8+2dv+7CW1n6PPu7+nRlsOdo3Nb92NLkt8E3uML/nZv/Sl5/X75/JLP77fCg9cfqAB4/eHHSVWFbqcKstKV6XQoLzNdmelpavZ4tfVAo/Wbd7rDptF5mcrPSleh2ym3M03ZrjRlpNtV4Haq0O1UfpZT2S6HMtMD2zM6505wpdmV7Qrs7/H6VdXQpoq6Vvn8RuOK3JoyJrfX8QBHEvy5Wb+3XrtrWjStLE9lBVlxu8vBGKM3N+3XnpoWnXn0CB1XnMNlBiAF9DVYRDXG4tChQ/L5fCouLg7bXlxcrKqqqojv8Xg88ng8YQ2TpD+uq5DdRTkS/WOzSRlpDrnS7XKlBT5wXWl2udIcykgP/9OVZpcr+Hq6XRlpgUsJHT5/eHAyUofPL78JrNmQk5Gm3Mx05WakKS8zXbmZ6YE/M9KtSkWTxyu7zaY0h0022dTa7tPIHJcynZE/1P1+o4NNHmU6HXI6Au2Oh3iW9oPhd3p5vqaX58ftuKHH/8LkkrgfF0By6Nfgze5lxsOVHhctWqT777+/x/bvXHiMsrIDc+UH3xk8hK1zS/dDBs/Rc//Odkjydf7GG7wG7vcb+Y3kN0Y2dVYNOt9rHc+mnq91Pg+et2t75/POxwp7rWt78Dd5vzHWb/vBtnRvd/B4oduCxw1tX9fjbn9XIe8N/TsK9LFrv9C/T9sRjt/19xvetsMdX7bwPjlsNtntgUF+js6SdvBxmiPksd0uu11hfzrsgdcctvB2B9sVvGSRaPlZzqj2t9ttKs7NGKDWAEDiRRUsRowYIYfD0aM6ceDAgR5VjKCFCxdqwYIF1vOGhgaVl5fr22cfxRgLAACGGPuRd+nidDp18skna+nSpWHbly5dqjPOOCPie1wul3Jzc8O+AADA0BT1pZAFCxZo3rx5OuWUUzRr1iz98pe/1O7du3XLLbcMRPsAAEAKiTpYXHvttaqurtYPfvADVVZWasqUKfrrX/+qcePGDUT7AABACol6HotYMY8FAACpp6+f31GNsQAAADgcggUAAIgbggUAAIgbggUAAIgbggUAAIgbggUAAIgbggUAAIgbggUAAIgbggUAAIibfi2bHovgRJ8NDQ2DfWoAANBPwc/tI03YPejBorGxUZJUXl4+2KcGAAAxamxsVF5eXq+vD/paIX6/XxUVFcrJyZHNZuvTexoaGlReXq49e/YMyvoiM2fO1MqVKwf8PEOxX0OxTxL9ihd+BvuPfsUHP4P9Z4xRY2OjSktLZbf3PpJi0CsWdrtdZWVl/Xpvbm7uoHyTHA7HoC6QNhT7NRT7JNGvWPEzGDv6FRt+BmNzuEpFEIM3I5g/f36imzAghmK/hmKfJPqVSoZinyT6lUqSrU+DfimkP4bqUutDsV9DsU8S/UolQ7FPEv1KJUOxT9FIiYqFy+XSvffeK5fLleimxNVQ7NdQ7JNEv1LJUOyTRL9SyVDsUzRSomIBAABSQ0pULAAAQGogWAAAgLghWAAAgLghWAAAgLgZtGDx3nvv6bLLLlNpaalsNpteffXVsNf379+vb3zjGyotLVVWVpYuvvhibd261Xq9pqZGt99+u4477jhlZWVp7NixuuOOO1RfXx92nDVr1uiiiy5Sfn6+ioqK9M///M9qampKyj5J0s0336yJEycqMzNTI0eO1BVXXKHPPvssYX2KV7+CjDGaO3duxOOkYr9mz54tm80W9vXVr3415fslSR988IHOP/98ud1u5efna/bs2WptbU1Iv2Lt0+eff97j+xT8Wrx4cUL6FI9+SVJVVZXmzZunkpISud1unXTSSfrDH/4Qtk8q9mv79u266qqrNHLkSOXm5uqaa67R/v37E9avRYsWaebMmcrJydGoUaN05ZVXavPmzWH7GGN03333qbS0VJmZmZo9e7Y2btwYto/H49Htt9+uESNGyO126/LLL9fevXsT1q/BMGjBorm5WdOnT9fjjz/e4zVjjK688krt2LFDf/zjH7V27VqNGzdOF154oZqbmyVJFRUVqqio0EMPPaQNGzbomWee0ZIlS/Stb33LOk5FRYUuvPBCHX300froo4+0ZMkSbdy4Ud/4xjeSsk+SdPLJJ+vpp5/Wp59+qjfeeEPGGM2ZM0c+ny8hfYpXv4IeffTRiFO3p3K/brrpJlVWVlpfTz75ZMr364MPPtDFF1+sOXPm6B//+IdWrlyp2267zZq2N9X+bZWXl4d9jyorK3X//ffL7XZr7ty5CelTPPolSfPmzdPmzZv12muvacOGDbr66qt17bXXau3atSnbr+bmZs2ZM0c2m03vvPOO3n//fbW3t+uyyy6T3+9PSL+WL1+u+fPn68MPP9TSpUvl9Xo1Z86csO/Fgw8+qEceeUSPP/64Vq5cqZKSEl100UXWmliS9J3vfEevvPKKXnzxRa1YsUJNTU269NJLE/p//IAzCSDJvPLKK9bzzZs3G0nmk08+sbZ5vV5TWFhofvWrX/V6nN///vfG6XSajo4OY4wxTz75pBk1apTx+XzWPmvXrjWSzNatW+PfkRDx6tPHH39sJJlt27YZYxLbJ2Ni69e6detMWVmZqays7HGcVO3Xueeea+68885ej5uq/TrttNPM3Xff3etxh8K/rRNPPNF885vftJ6n6vfK7XabZ599NuxYhYWF5te//rUxJjX79cYbbxi73W7q6+utfWpqaowks3TpUmNM4vt14MABI8ksX77cGGOM3+83JSUl5oEHHrD2aWtrM3l5eeZ//ud/jDHG1NXVmfT0dPPiiy9a++zbt8/Y7XazZMmSpOjXQEiKMRYej0eSlJGRYW1zOBxyOp1asWJFr+8LzmqWlpZmHcfpdIYtjpKZmSlJhz3OQOhPn5qbm/X0009rwoQJ1uqvydSnYHukI/erpaVF1113nR5//HGVlJREPE4q9kuSfve732nEiBGaPHmyvve974X9dpKK/Tpw4IA++ugjjRo1SmeccYaKi4t17rnnhrU3mfrVn39bq1ev1rp168IqnMnUp2B7pCP366yzztJLL72kmpoa+f1+vfjii/J4PJo9e7Z1nFTrl8fjkc1mC5tQKiMjQ3a7PWyfRPYreNm9sLBQkrRz505VVVVpzpw51j4ul0vnnnuu/v73v0sK/Nx1dHSE7VNaWqopU6ZY+yS6XwMhKYLFpEmTNG7cOC1cuFC1tbVqb2/XAw88oKqqKlVWVkZ8T3V1tX74wx/q5ptvtradf/75qqqq0k9+8hO1t7ertrZW3//+9yWp1+MMlGj69Itf/ELZ2dnKzs7WkiVLtHTpUjmdzqTrUzT9+u53v6szzjhDV1xxRcTjpGq/rr/+er3wwgtatmyZ/uM//kMvv/yyrr766pTu144dOyRJ9913n2666SYtWbJEJ510ki644ALrOngy9as//1889dRTOv7443XGGWdY25KpT1Lf+/XSSy/J6/WqqKhILpdLN998s1555RVNnDgxZft1+umny+1266677lJLS4uam5v1b//2b/L7/dY+ieyXMUYLFizQWWedpSlTpkgKjHWRpOLi4rB9i4uLrdeqqqrkdDpVUFDQ6z7J9v2Kh6QIFunp6Xr55Ze1ZcsWFRYWKisrS8uWLdPcuXPlcDh67N/Q0KBLLrlEJ5xwgu69915r++TJk/W///u/evjhh5WVlaWSkhIdddRRKi4ujnicgRRNn66//nqtXbtWy5cv1zHHHKNrrrlGbW1tSdenvvbrtdde0zvvvKNHH3201+OkYr+kwPiKCy+8UFOmTNFXv/pV/eEPf9Bbb72lNWvWpGy/gtewb775Zt14442aMWOGfvrTn+q4447Tb37zm6TrV7T/X7S2tur5558Pq1ZIydUnqe/9uvvuu1VbW6u33npLq1at0oIFC/SVr3xFGzZsSNl+jRw5UosXL9af/vQnZWdnW+tsnHTSSdY+iezXbbfdpvXr1+uFF17o8Vr3MWTGmIjjynrbJ9m+X3GRiOsv6nYNLlRdXZ05cOCAMcaYU0891fzLv/xL2OsNDQ1m1qxZ5oILLjCtra29nqOqqso0NjaapqYmY7fbze9///u4tT+SWPoUyuPxmKysLPP888/3eG2w+2RM//p15513GpvNZhwOh/UlydjtdnPuuef2OE6q9CsSv9/f4xpqUKr0a8eOHUaSee6558L2v+aaa8zXvva1HsdJtX9bzz77rElPT7f2iyRVvlfbtm3rMV7BGGMuuOACc/PNN/c4Tqr0K9TBgwdNbW2tMcaY4uJi8+CDD/bYZzD7ddttt5mysjKzY8eOsO3bt283ksyaNWvCtl9++eXmn/7pn4wxxrz99ttGkqmpqQnbZ9q0aeaee+7pca5EfL8GQtIFi6AtW7YYu91u3njjDWtbfX29Of300825555rmpub+3Sup556ymRlZVk/qAOlv33qzuPxmMzMTPP000/3us9g9cmY/vWrsrLSbNiwIexLknnsscd6/OMMlez9iiTYt+CArkiSvV9+v9+Ulpb2GLx54oknmoULF/Z6nFT5t3XuueeaL33pS306V7J/r9avX28kmU2bNoXtN2fOHHPTTTf1epxk71ckb7/9trHZbOazzz7rdZ+B7Jff7zfz5883paWlZsuWLRFfLykpMT/+8Y+tbR6PJ+LgzZdeesnap6KiImzwZiSD+f0aCIMWLBobG83atWut0a6PPPKIWbt2rdm1a5cxJnCHx7vvvmu2b99uXn31VTNu3Dhz9dVXW+9vaGgwp512mpk6darZtm2bqaystL68Xq+1389//nOzevVqs3nzZvP444+bzMxM89hjjyVln7Zv325+9KMfmVWrVpldu3aZv//97+aKK64whYWFZv/+/QnpUzz6FUmk/2xSrV/btm0z999/v1m5cqXZuXOn+ctf/mImTZpkZsyYkbCfwXj0yxhjfvrTn5rc3FyzePFis3XrVnP33XebjIwM6+6kwe5XvH4Gt27damw2m3n99dcjnifVvlft7e3m6KOPNmeffbb56KOPzLZt28xDDz1kbDab+ctf/pKy/TLGmN/85jfmgw8+MNu2bTPPPfecKSwsNAsWLAjbZzD7deutt5q8vDyzbNmysM+blpYWa58HHnjA5OXlmf/7v/8zGzZsMNddd50ZPXq0aWhosPa55ZZbTFlZmXnrrbfMmjVrzPnnn2+mT5+e0P8zBtqgBYt3333XSOrxdcMNNxhjjHnsscdMWVmZSU9PN2PHjjV333238Xg8R3y/JLNz505rv3nz5pnCwkLjdDrNtGnTetyWlUx92rdvn5k7d64ZNWqUSU9PN2VlZeZrX/taj4Q+mH2KR78iiRQsUq1fu3fvNuecc47V5okTJ5o77rjDVFdXp3S/ghYtWmTKyspMVlaWmTVrlvnb3/6WsH7Fq08LFy40ZWVlYbfyJapPxsSnX1u2bDFXX321GTVqlMnKyorY7lTs11133WWKi4tNenq6OeaYY8zDDz9s/H5/wvrV2+dNaDXZ7/ebe++915SUlBiXy2XOOeccs2HDhrDjtLa2mttuu80UFhaazMxMc+mll5rdu3cnrF+DgWXTAQBA3CTFXSEAAGBoIFgAAIC4IVgAAIC4IVgAAIC4IVgAAIC4IVgAAIC4IVgAAIC4IVgAAIC4IVgAAIC4IVgAAIC4IVgAAIC4IVgAAIC4+X9evN8g8FR3kwAAAABJRU5ErkJggg==",
      "text/plain": [
       "<Figure size 640x480 with 1 Axes>"
      ]
     },
     "metadata": {},
     "output_type": "display_data"
    }
   ],
   "source": [
    "wealth_index.plot.line()"
   ]
  },
  {
   "cell_type": "code",
   "execution_count": 202,
   "id": "8964366b-5e67-4b00-a1b5-6bd702715a4a",
   "metadata": {},
   "outputs": [],
   "source": [
    "previous_peaks=wealth_index.cummax()"
   ]
  },
  {
   "cell_type": "code",
   "execution_count": 204,
   "id": "e60c678a-b9ca-46d2-b7a7-d2f6899e7b22",
   "metadata": {},
   "outputs": [
    {
     "data": {
      "text/plain": [
       "<Axes: >"
      ]
     },
     "execution_count": 204,
     "metadata": {},
     "output_type": "execute_result"
    },
    {
     "data": {
      "image/png": "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",
      "text/plain": [
       "<Figure size 640x480 with 1 Axes>"
      ]
     },
     "metadata": {},
     "output_type": "display_data"
    }
   ],
   "source": [
    "previous_peaks.plot.line()"
   ]
  },
  {
   "cell_type": "code",
   "execution_count": 206,
   "id": "97e50137-b571-45b4-9468-3ad71fef0056",
   "metadata": {},
   "outputs": [
    {
     "data": {
      "text/plain": [
       "<Axes: >"
      ]
     },
     "execution_count": 206,
     "metadata": {},
     "output_type": "execute_result"
    },
    {
     "data": {
      "image/png": "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",
      "text/plain": [
       "<Figure size 640x480 with 1 Axes>"
      ]
     },
     "metadata": {},
     "output_type": "display_data"
    }
   ],
   "source": [
    "drawdown=(wealth_index-previous_peaks)/previous_peaks\n",
    "drawdown.plot()"
   ]
  },
  {
   "cell_type": "code",
   "execution_count": 208,
   "id": "3001dc44-0e39-4026-8e58-1c9cd7eb8bac",
   "metadata": {},
   "outputs": [
    {
     "data": {
      "text/plain": [
       "1926-07-01    0.0000\n",
       "1926-08-01    0.0000\n",
       "1926-09-01    0.0000\n",
       "1926-10-01   -0.0243\n",
       "1926-11-01    0.0000\n",
       "Name: LargeCap, dtype: float64"
      ]
     },
     "execution_count": 208,
     "metadata": {},
     "output_type": "execute_result"
    }
   ],
   "source": [
    "drawdown.head()"
   ]
  },
  {
   "cell_type": "code",
   "execution_count": 210,
   "id": "15b3aa7a-1051-4ef8-b781-f36cf8a60d9f",
   "metadata": {},
   "outputs": [
    {
     "data": {
      "text/plain": [
       "-0.8400375277943123"
      ]
     },
     "execution_count": 210,
     "metadata": {},
     "output_type": "execute_result"
    }
   ],
   "source": [
    "drawdown.min()"
   ]
  },
  {
   "cell_type": "code",
   "execution_count": 212,
   "id": "e495fa67-b6cb-4339-947a-e2005dde6c3d",
   "metadata": {},
   "outputs": [
    {
     "data": {
      "text/plain": [
       "Timestamp('2009-02-01 00:00:00')"
      ]
     },
     "execution_count": 212,
     "metadata": {},
     "output_type": "execute_result"
    }
   ],
   "source": [
    "drawdown[\"1975\":].idxmin()"
   ]
  },
  {
   "cell_type": "code",
   "execution_count": 214,
   "id": "8b13a471-3b6a-460f-9214-03f1f4174786",
   "metadata": {},
   "outputs": [
    {
     "data": {
      "text/plain": [
       "Timestamp('1932-05-01 00:00:00')"
      ]
     },
     "execution_count": 214,
     "metadata": {},
     "output_type": "execute_result"
    }
   ],
   "source": [
    "drawdown.idxmin()"
   ]
  },
  {
   "cell_type": "markdown",
   "id": "7c8f32f1-a362-49a3-bcbf-1d00dc0447f0",
   "metadata": {},
   "source": [
    "# BUILDING YOUR OWN MODULES"
   ]
  },
  {
   "cell_type": "code",
<<<<<<< HEAD
   "execution_count": 1,
   "id": "d2596883-0945-425d-8285-ba721341b867",
=======
   "execution_count": 230,
   "id": "64c98367-efcc-494b-b489-259cbf682e24",
>>>>>>> origin/master
   "metadata": {},
   "outputs": [],
   "source": [
    "import pandas as pd\n",
<<<<<<< HEAD
    "\n",
    "def drawdown(return_series: pd.Series):\n",
    "    \"\"\"Takes a time series of asset returns.\n",
    "       returns a DataFrame with columns for\n",
    "       the wealth index, \n",
    "       the previous peaks, and \n",
    "       the percentage drawdown\n",
    "    \"\"\"\n",
    "    wealth_index = 1000*(1+return_series).cumprod()\n",
    "    previous_peaks = wealth_index.cummax()\n",
    "    drawdowns = (wealth_index - previous_peaks)/previous_peaks\n",
    "    return pd.DataFrame({\"Wealth\": wealth_index, \n",
    "                         \"Previous Peak\": previous_peaks, \n",
    "                         \"Drawdown\": drawdowns})"
   ]
  },
  {
   "cell_type": "code",
   "execution_count": 2,
   "id": "0f19f0f1-150f-4e43-a700-336786124251",
   "metadata": {},
   "outputs": [],
   "source": [
    " def get_ffme_returns():\n",
    "    \"\"\"\n",
    "    Load the Fama-French Dataset for the returns of the Top and Bottom Deciles by MarketCap\n",
    "    \"\"\"\n",
    "    me_m = pd.read_csv(\"data/Portfolios_Formed_on_ME_monthly_EW.csv\",\n",
    "                       header=0, index_col=0, na_values=-99.99)\n",
    "    rets = me_m[['Lo 10', 'Hi 10']]\n",
    "    rets.columns = ['SmallCap', 'LargeCap']\n",
    "    rets = rets/100\n",
    "    rets.index = pd.to_datetime(rets.index, format=\"%Y%m\").to_period('M')\n",
    "    return rets"
   ]
  },
  {
   "cell_type": "markdown",
   "id": "c5d30d12-5361-4fc3-8c9b-c22bbf1214b5",
   "metadata": {},
   "source": [
    "# Deviations from normality"
   ]
  },
  {
   "cell_type": "code",
   "execution_count": 13,
   "id": "59d30403-8cc4-43cd-a661-1f1223c15791",
   "metadata": {},
   "outputs": [
    {
     "name": "stdout",
     "output_type": "stream",
     "text": [
      "The autoreload extension is already loaded. To reload it, use:\n",
      "  %reload_ext autoreload\n"
     ]
    },
    {
     "name": "stderr",
     "output_type": "stream",
     "text": [
      "UsageError: Line magic function `%autoreload2` not found.\n"
     ]
    }
   ],
   "source": [
    "import pandas as pd\n",
    "%load_ext autoreload\n",
    "%autoreload2 \n",
    "import pandas as pd\n",
    "import edhec_risk_kit as erk"
   ]
  },
  {
   "cell_type": "code",
   "execution_count": 14,
   "id": "f9379122-66dc-492c-b605-8830aa56d891",
   "metadata": {},
   "outputs": [],
   "source": [
    "def get_ffme_returns():\n",
    "    \"\"\"\n",
    "    Load the Fama-French Dataset for the returns of the Top and Bottom Deciles by MarketCap\n",
    "    \"\"\"\n",
    "    me_m = pd.read_csv(\"data/Portfolios_Formed_on_ME_monthly_EW.csv\",\n",
    "                       header=0, index_col=0, na_values=-99.99)\n",
    "    rets = me_m[['Lo 10', 'Hi 10']]\n",
    "    rets.columns = ['SmallCap', 'LargeCap']\n",
    "    rets = rets/100\n",
    "    rets.index = pd.to_datetime(rets.index, format=\"%Y%m\").to_period('M')\n",
    "    return rets"
   ]
  },
  {
   "cell_type": "code",
   "execution_count": 15,
   "id": "ebf9caba-1ce4-4f43-bee4-217c775bb53a",
   "metadata": {},
   "outputs": [],
   "source": [
    "def get_hfi_returns():\n",
    "    \"\"\"\n",
    "    Load and format the EDHEC Hedge Fund Index Returns\n",
    "    \"\"\"\n",
    "    hfi = pd.read_csv(\"data/edhec-hedgefundindices.csv\",\n",
    "                      header=0, index_col=0, parse_dates=True)\n",
    "    hfi = hfi/100\n",
    "    hfi.index = hfi.index.to_period('M')\n",
    "    return hfi"
   ]
  },
  {
   "cell_type": "code",
   "execution_count": 16,
   "id": "390725ac-b382-49ab-ab96-c08053eaeb04",
   "metadata": {},
   "outputs": [
    {
     "ename": "NameError",
     "evalue": "name 'erk' is not defined",
     "output_type": "error",
     "traceback": [
      "\u001b[1;31m---------------------------------------------------------------------------\u001b[0m",
      "\u001b[1;31mNameError\u001b[0m                                 Traceback (most recent call last)",
      "Cell \u001b[1;32mIn[16], line 1\u001b[0m\n\u001b[1;32m----> 1\u001b[0m hfi\u001b[38;5;241m=\u001b[39merk\u001b[38;5;241m.\u001b[39mget_hfi_returns()\n\u001b[0;32m      2\u001b[0m hfi\u001b[38;5;241m.\u001b[39mhead\n",
      "\u001b[1;31mNameError\u001b[0m: name 'erk' is not defined"
     ]
    }
   ],
   "source": [
    "hfi=erk.get_hfi_returns()\n",
    "hfi.head"
   ]
  },
  {
   "cell_type": "code",
   "execution_count": null,
   "id": "a84f7904-8cef-4b23-88b1-5ffaa951d416",
   "metadata": {},
   "outputs": [],
   "source": []
  },
  {
   "cell_type": "code",
   "execution_count": null,
   "id": "a93f07f5-e499-489a-ba90-e6b5139ad914",
   "metadata": {},
   "outputs": [],
   "source": [
    "pip uninstall jupyterlab-lsp\n"
   ]
  },
  {
   "cell_type": "code",
   "execution_count": null,
   "id": "726d2703-c200-4a8c-9688-80545dc6c9f3",
   "metadata": {},
   "outputs": [],
   "source": [
    "hfi=erk."
=======
    "def drawdown(return_series: pd.Series):\n",
    "    \"\"\"\n",
    "    Takes a time series of returns\n",
    "    Computes and returns a dataframe taht contains:\n",
    "    the wealth index\n",
    "    the previous peaks\n",
    "    percent drawdowns\n",
    "    \"\"\"\n",
    "    wealth_index=1000*(1+return_series).cumprod()\n",
    "    previous_peaks=wealth_index.cummax()\n",
    "    drawdowns=(wealth_index-previous_peaks)/previous_peaks\n",
    "    return pd.DataFrame({\n",
    "        'wealth':wealth_index,\n",
    "        \"peaks\":previous_peaks,\n",
    "        \"drawdown\": drawdowns\n",
    "    })\n",
    "    "
>>>>>>> origin/master
   ]
  },
  {
   "cell_type": "code",
   "execution_count": 232,
   "id": "86f458db-39ec-491a-a68d-8f4f1731484b",
   "metadata": {},
   "outputs": [
    {
     "data": {
      "text/html": [
       "<div>\n",
       "<style scoped>\n",
       "    .dataframe tbody tr th:only-of-type {\n",
       "        vertical-align: middle;\n",
       "    }\n",
       "\n",
       "    .dataframe tbody tr th {\n",
       "        vertical-align: top;\n",
       "    }\n",
       "\n",
       "    .dataframe thead th {\n",
       "        text-align: right;\n",
       "    }\n",
       "</style>\n",
       "<table border=\"1\" class=\"dataframe\">\n",
       "  <thead>\n",
       "    <tr style=\"text-align: right;\">\n",
       "      <th></th>\n",
       "      <th>wealth</th>\n",
       "      <th>peaks</th>\n",
       "      <th>drawdown</th>\n",
       "    </tr>\n",
       "  </thead>\n",
       "  <tbody>\n",
       "    <tr>\n",
       "      <th>1926-07-01</th>\n",
       "      <td>1032.900000</td>\n",
       "      <td>1032.900000</td>\n",
       "      <td>0.0000</td>\n",
       "    </tr>\n",
       "    <tr>\n",
       "      <th>1926-08-01</th>\n",
       "      <td>1071.117300</td>\n",
       "      <td>1071.117300</td>\n",
       "      <td>0.0000</td>\n",
       "    </tr>\n",
       "    <tr>\n",
       "      <th>1926-09-01</th>\n",
       "      <td>1078.293786</td>\n",
       "      <td>1078.293786</td>\n",
       "      <td>0.0000</td>\n",
       "    </tr>\n",
       "    <tr>\n",
       "      <th>1926-10-01</th>\n",
       "      <td>1052.091247</td>\n",
       "      <td>1078.293786</td>\n",
       "      <td>-0.0243</td>\n",
       "    </tr>\n",
       "    <tr>\n",
       "      <th>1926-11-01</th>\n",
       "      <td>1080.497711</td>\n",
       "      <td>1080.497711</td>\n",
       "      <td>0.0000</td>\n",
       "    </tr>\n",
       "  </tbody>\n",
       "</table>\n",
       "</div>"
      ],
      "text/plain": [
       "                 wealth        peaks  drawdown\n",
       "1926-07-01  1032.900000  1032.900000    0.0000\n",
       "1926-08-01  1071.117300  1071.117300    0.0000\n",
       "1926-09-01  1078.293786  1078.293786    0.0000\n",
       "1926-10-01  1052.091247  1078.293786   -0.0243\n",
       "1926-11-01  1080.497711  1080.497711    0.0000"
      ]
     },
     "execution_count": 232,
     "metadata": {},
     "output_type": "execute_result"
    }
   ],
   "source": [
    "drawdown(rets[\"LargeCap\"]).head()"
   ]
  },
  {
   "cell_type": "code",
   "execution_count": 242,
   "id": "a9058c08-155c-422a-a991-8fbdd82cd4a8",
   "metadata": {},
   "outputs": [
    {
     "data": {
      "text/html": [
       "<div>\n",
       "<style scoped>\n",
       "    .dataframe tbody tr th:only-of-type {\n",
       "        vertical-align: middle;\n",
       "    }\n",
       "\n",
       "    .dataframe tbody tr th {\n",
       "        vertical-align: top;\n",
       "    }\n",
       "\n",
       "    .dataframe thead th {\n",
       "        text-align: right;\n",
       "    }\n",
       "</style>\n",
       "<table border=\"1\" class=\"dataframe\">\n",
       "  <thead>\n",
       "    <tr style=\"text-align: right;\">\n",
       "      <th></th>\n",
       "      <th>wealth</th>\n",
       "      <th>peaks</th>\n",
       "    </tr>\n",
       "  </thead>\n",
       "  <tbody>\n",
       "    <tr>\n",
       "      <th>1926-07-01</th>\n",
       "      <td>1032.900000</td>\n",
       "      <td>1032.900000</td>\n",
       "    </tr>\n",
       "    <tr>\n",
       "      <th>1926-08-01</th>\n",
       "      <td>1071.117300</td>\n",
       "      <td>1071.117300</td>\n",
       "    </tr>\n",
       "    <tr>\n",
       "      <th>1926-09-01</th>\n",
       "      <td>1078.293786</td>\n",
       "      <td>1078.293786</td>\n",
       "    </tr>\n",
       "    <tr>\n",
       "      <th>1926-10-01</th>\n",
       "      <td>1052.091247</td>\n",
       "      <td>1078.293786</td>\n",
       "    </tr>\n",
       "    <tr>\n",
       "      <th>1926-11-01</th>\n",
       "      <td>1080.497711</td>\n",
       "      <td>1080.497711</td>\n",
       "    </tr>\n",
       "  </tbody>\n",
       "</table>\n",
       "</div>"
      ],
      "text/plain": [
       "                 wealth        peaks\n",
       "1926-07-01  1032.900000  1032.900000\n",
       "1926-08-01  1071.117300  1071.117300\n",
       "1926-09-01  1078.293786  1078.293786\n",
       "1926-10-01  1052.091247  1078.293786\n",
       "1926-11-01  1080.497711  1080.497711"
      ]
     },
     "execution_count": 242,
     "metadata": {},
     "output_type": "execute_result"
    }
   ],
   "source": [
    "drawdown(rets[\"LargeCap\"])[[\"wealth\",\"peaks\"]].head()"
   ]
  },
  {
   "cell_type": "code",
   "execution_count": 244,
   "id": "f18a1417-c090-45db-8aa5-8fa09878d4db",
   "metadata": {},
   "outputs": [
    {
     "data": {
      "text/plain": [
       "<Axes: >"
      ]
     },
     "execution_count": 244,
     "metadata": {},
     "output_type": "execute_result"
    },
    {
     "data": {
      "image/png": "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",
      "text/plain": [
       "<Figure size 640x480 with 1 Axes>"
      ]
     },
     "metadata": {},
     "output_type": "display_data"
    }
   ],
   "source": [
    "drawdown(rets[\"LargeCap\"])[[\"wealth\",\"peaks\"]].plot()"
   ]
  },
  {
   "cell_type": "code",
   "execution_count": 248,
   "id": "52d3fce8-3d8f-4069-8630-66ac498a4ea6",
   "metadata": {},
   "outputs": [
    {
     "data": {
      "text/plain": [
       "<Axes: >"
      ]
     },
     "execution_count": 248,
     "metadata": {},
     "output_type": "execute_result"
    },
    {
     "data": {
      "image/png": "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",
      "text/plain": [
       "<Figure size 640x480 with 1 Axes>"
      ]
     },
     "metadata": {},
     "output_type": "display_data"
    }
   ],
   "source": [
    "drawdown(rets[:\"1950\"][\"LargeCap\"])[[\"wealth\",\"peaks\"]].plot()"
   ]
  },
  {
   "cell_type": "code",
   "execution_count": 259,
   "id": "76e780d8-aa8e-4bbd-8b84-ad56eab786cf",
   "metadata": {},
   "outputs": [
    {
     "data": {
      "text/html": [
       "<div>\n",
       "<style scoped>\n",
       "    .dataframe tbody tr th:only-of-type {\n",
       "        vertical-align: middle;\n",
       "    }\n",
       "\n",
       "    .dataframe tbody tr th {\n",
       "        vertical-align: top;\n",
       "    }\n",
       "\n",
       "    .dataframe thead th {\n",
       "        text-align: right;\n",
       "    }\n",
       "</style>\n",
       "<table border=\"1\" class=\"dataframe\">\n",
       "  <thead>\n",
       "    <tr style=\"text-align: right;\">\n",
       "      <th></th>\n",
       "      <th>wealth</th>\n",
       "      <th>peaks</th>\n",
       "      <th>drawdown</th>\n",
       "    </tr>\n",
       "  </thead>\n",
       "  <tbody>\n",
       "    <tr>\n",
       "      <th>1926-07-01</th>\n",
       "      <td>1032.900000</td>\n",
       "      <td>1032.900000</td>\n",
       "      <td>0.0000</td>\n",
       "    </tr>\n",
       "    <tr>\n",
       "      <th>1926-08-01</th>\n",
       "      <td>1071.117300</td>\n",
       "      <td>1071.117300</td>\n",
       "      <td>0.0000</td>\n",
       "    </tr>\n",
       "    <tr>\n",
       "      <th>1926-09-01</th>\n",
       "      <td>1078.293786</td>\n",
       "      <td>1078.293786</td>\n",
       "      <td>0.0000</td>\n",
       "    </tr>\n",
       "    <tr>\n",
       "      <th>1926-10-01</th>\n",
       "      <td>1052.091247</td>\n",
       "      <td>1078.293786</td>\n",
       "      <td>-0.0243</td>\n",
       "    </tr>\n",
       "    <tr>\n",
       "      <th>1926-11-01</th>\n",
       "      <td>1080.497711</td>\n",
       "      <td>1080.497711</td>\n",
       "      <td>0.0000</td>\n",
       "    </tr>\n",
       "  </tbody>\n",
       "</table>\n",
       "</div>"
      ],
      "text/plain": [
       "                 wealth        peaks  drawdown\n",
       "1926-07-01  1032.900000  1032.900000    0.0000\n",
       "1926-08-01  1071.117300  1071.117300    0.0000\n",
       "1926-09-01  1078.293786  1078.293786    0.0000\n",
       "1926-10-01  1052.091247  1078.293786   -0.0243\n",
       "1926-11-01  1080.497711  1080.497711    0.0000"
      ]
     },
     "execution_count": 259,
     "metadata": {},
     "output_type": "execute_result"
    }
   ],
   "source": [
    "drawdown(rets[\"LargeCap\"]).head()"
   ]
  },
  {
   "cell_type": "code",
   "execution_count": 261,
   "id": "a3eba48c-e30f-4c6d-aee0-50cf915a343e",
   "metadata": {},
   "outputs": [
    {
     "data": {
      "text/plain": [
       "-0.8400375277943123"
      ]
     },
     "execution_count": 261,
     "metadata": {},
     "output_type": "execute_result"
    }
   ],
   "source": [
    "drawdown(rets[\"LargeCap\"])[\"drawdown\"].min()"
   ]
  },
  {
   "cell_type": "code",
   "execution_count": 263,
   "id": "e4786617-75cf-466d-b780-d8813aa81cec",
   "metadata": {},
   "outputs": [
    {
     "data": {
      "text/plain": [
       "-0.8330007793945303"
      ]
     },
     "execution_count": 263,
     "metadata": {},
     "output_type": "execute_result"
    }
   ],
   "source": [
    "drawdown(rets[\"SmallCap\"])[\"drawdown\"].min()"
   ]
  },
  {
   "cell_type": "code",
   "execution_count": 15,
   "id": "e1c15038-91c0-46fd-92f6-a93d38e03a2c",
   "metadata": {},
   "outputs": [],
   "source": [
    "\n",
    "import pandas as pd"
   ]
  },
  {
   "cell_type": "code",
   "execution_count": null,
   "id": "41f27464-c058-4288-8d3d-5dc17c8b194f",
   "metadata": {},
   "outputs": [],
   "source": []
  },
  {
   "cell_type": "code",
   "execution_count": null,
   "id": "e4c5062c-4476-443d-aac9-27d77468e382",
   "metadata": {},
   "outputs": [],
   "source": []
  }
 ],
 "metadata": {
  "kernelspec": {
   "display_name": "Python 3 (ipykernel)",
   "language": "python",
   "name": "python3"
  },
  "language_info": {
   "codemirror_mode": {
    "name": "ipython",
    "version": 3
   },
   "file_extension": ".py",
   "mimetype": "text/x-python",
   "name": "python",
   "nbconvert_exporter": "python",
   "pygments_lexer": "ipython3",
   "version": "3.12.4"
  }
 },
 "nbformat": 4,
 "nbformat_minor": 5
}
